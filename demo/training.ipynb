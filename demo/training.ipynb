{
  "nbformat": 4,
  "nbformat_minor": 0,
  "metadata": {
    "colab": {
      "provenance": []
    },
    "kernelspec": {
      "name": "python3",
      "display_name": "Python 3"
    },
    "language_info": {
      "name": "python"
    },
    "accelerator": "GPU",
    "gpuClass": "standard"
  },
  "cells": [
    {
      "cell_type": "code",
      "source": [
        "!nvidia-smi"
      ],
      "metadata": {
        "colab": {
          "base_uri": "https://localhost:8080/"
        },
        "id": "PvcL38hzkML9",
        "outputId": "46f3fd78-a45c-4e66-c269-68c0f833be8f"
      },
      "execution_count": 1,
      "outputs": [
        {
          "output_type": "stream",
          "name": "stdout",
          "text": [
            "Sun Feb 12 10:35:51 2023       \n",
            "+-----------------------------------------------------------------------------+\n",
            "| NVIDIA-SMI 510.47.03    Driver Version: 510.47.03    CUDA Version: 11.6     |\n",
            "|-------------------------------+----------------------+----------------------+\n",
            "| GPU  Name        Persistence-M| Bus-Id        Disp.A | Volatile Uncorr. ECC |\n",
            "| Fan  Temp  Perf  Pwr:Usage/Cap|         Memory-Usage | GPU-Util  Compute M. |\n",
            "|                               |                      |               MIG M. |\n",
            "|===============================+======================+======================|\n",
            "|   0  Tesla T4            Off  | 00000000:00:04.0 Off |                    0 |\n",
            "| N/A   45C    P0    25W /  70W |      0MiB / 15360MiB |      0%      Default |\n",
            "|                               |                      |                  N/A |\n",
            "+-------------------------------+----------------------+----------------------+\n",
            "                                                                               \n",
            "+-----------------------------------------------------------------------------+\n",
            "| Processes:                                                                  |\n",
            "|  GPU   GI   CI        PID   Type   Process name                  GPU Memory |\n",
            "|        ID   ID                                                   Usage      |\n",
            "|=============================================================================|\n",
            "|  No running processes found                                                 |\n",
            "+-----------------------------------------------------------------------------+\n"
          ]
        }
      ]
    },
    {
      "cell_type": "code",
      "source": [
        "from google.colab import drive\n",
        "drive.mount('/content/drive')"
      ],
      "metadata": {
        "colab": {
          "base_uri": "https://localhost:8080/"
        },
        "id": "LABDAq5kZD2g",
        "outputId": "713d6055-41cc-43e5-d071-8ee3db2d541d"
      },
      "execution_count": 2,
      "outputs": [
        {
          "output_type": "stream",
          "name": "stdout",
          "text": [
            "Drive already mounted at /content/drive; to attempt to forcibly remount, call drive.mount(\"/content/drive\", force_remount=True).\n"
          ]
        }
      ]
    },
    {
      "cell_type": "code",
      "source": [
        "import os\n",
        "from getpass import getpass\n",
        "\n",
        "user = getpass(\"Github User:\")\n",
        "password = getpass(\"Github Password:\")\n",
        "os.environ['GITHUB_AUTH'] = user + ':' + password"
      ],
      "metadata": {
        "colab": {
          "base_uri": "https://localhost:8080/"
        },
        "id": "ln2nCq6nFomZ",
        "outputId": "76e2504c-99f8-43a4-f284-36ca6e85ed6d"
      },
      "execution_count": 3,
      "outputs": [
        {
          "name": "stdout",
          "output_type": "stream",
          "text": [
            "Github User:··········\n",
            "Github Password:··········\n"
          ]
        }
      ]
    },
    {
      "cell_type": "code",
      "source": [
        "REPO_DIR = '/demo'\n",
        "%mkdir -p \"$REPO_DIR\"\n",
        "%cd \"$REPO_DIR\" \n",
        "!git clone https://$GITHUB_AUTH@github.com/srijarkoroy/LinkSeg \n",
        "%cd \"$REPO_DIR/LinkSeg\""
      ],
      "metadata": {
        "colab": {
          "base_uri": "https://localhost:8080/"
        },
        "id": "OUA0hmPwGdHj",
        "outputId": "46f0de2c-4a55-449a-b325-6bb559c054ed"
      },
      "execution_count": 4,
      "outputs": [
        {
          "output_type": "stream",
          "name": "stdout",
          "text": [
            "/demo\n",
            "Cloning into 'LinkSeg'...\n",
            "remote: Enumerating objects: 86, done.\u001b[K\n",
            "remote: Counting objects: 100% (86/86), done.\u001b[K\n",
            "remote: Compressing objects: 100% (65/65), done.\u001b[K\n",
            "remote: Total 86 (delta 33), reused 64 (delta 16), pack-reused 0\u001b[K\n",
            "Unpacking objects: 100% (86/86), 307.10 KiB | 8.77 MiB/s, done.\n",
            "/demo/LinkSeg\n"
          ]
        }
      ]
    },
    {
      "cell_type": "code",
      "source": [
        "!unzip /content/drive/MyDrive/datasets.zip -d /demo/LinkSeg"
      ],
      "metadata": {
        "colab": {
          "base_uri": "https://localhost:8080/"
        },
        "id": "a-icEgqaLhX_",
        "outputId": "1276b38b-a2cc-4260-afa6-f8fdf1168f60"
      },
      "execution_count": 5,
      "outputs": [
        {
          "output_type": "stream",
          "name": "stdout",
          "text": [
            "Archive:  /content/drive/MyDrive/datasets.zip\n",
            "warning:  stripped absolute path spec from /\n",
            "mapname:  conversion of  failed\n",
            " extracting: /demo/LinkSeg/test.zip  \n",
            " extracting: /demo/LinkSeg/training.zip  \n"
          ]
        }
      ]
    },
    {
      "cell_type": "code",
      "source": [
        "%mkdir dataset/"
      ],
      "metadata": {
        "id": "RX4N3keWOIOB"
      },
      "execution_count": 6,
      "outputs": []
    },
    {
      "cell_type": "code",
      "source": [
        "!unzip /demo/LinkSeg/test.zip -d /demo/LinkSeg/dataset/"
      ],
      "metadata": {
        "colab": {
          "base_uri": "https://localhost:8080/"
        },
        "id": "FE2PYo3YNRbw",
        "outputId": "fe91e042-453d-4333-f0a2-3a85da20ea81"
      },
      "execution_count": 7,
      "outputs": [
        {
          "output_type": "stream",
          "name": "stdout",
          "text": [
            "Archive:  /demo/LinkSeg/test.zip\n",
            "   creating: /demo/LinkSeg/dataset/test/\n",
            "   creating: /demo/LinkSeg/dataset/test/images/\n",
            "  inflating: /demo/LinkSeg/dataset/test/images/01_test.tif  \n",
            "  inflating: /demo/LinkSeg/dataset/test/images/02_test.tif  \n",
            "  inflating: /demo/LinkSeg/dataset/test/images/03_test.tif  \n",
            "  inflating: /demo/LinkSeg/dataset/test/images/04_test.tif  \n",
            "  inflating: /demo/LinkSeg/dataset/test/images/05_test.tif  \n",
            "  inflating: /demo/LinkSeg/dataset/test/images/06_test.tif  \n",
            "  inflating: /demo/LinkSeg/dataset/test/images/07_test.tif  \n",
            "  inflating: /demo/LinkSeg/dataset/test/images/08_test.tif  \n",
            "  inflating: /demo/LinkSeg/dataset/test/images/09_test.tif  \n",
            "  inflating: /demo/LinkSeg/dataset/test/images/10_test.tif  \n",
            "  inflating: /demo/LinkSeg/dataset/test/images/11_test.tif  \n",
            "  inflating: /demo/LinkSeg/dataset/test/images/12_test.tif  \n",
            "  inflating: /demo/LinkSeg/dataset/test/images/13_test.tif  \n",
            "  inflating: /demo/LinkSeg/dataset/test/images/14_test.tif  \n",
            "  inflating: /demo/LinkSeg/dataset/test/images/15_test.tif  \n",
            "  inflating: /demo/LinkSeg/dataset/test/images/16_test.tif  \n",
            "  inflating: /demo/LinkSeg/dataset/test/images/17_test.tif  \n",
            "  inflating: /demo/LinkSeg/dataset/test/images/18_test.tif  \n",
            "  inflating: /demo/LinkSeg/dataset/test/images/19_test.tif  \n",
            "  inflating: /demo/LinkSeg/dataset/test/images/20_test.tif  \n",
            "   creating: /demo/LinkSeg/dataset/test/mask/\n",
            " extracting: /demo/LinkSeg/dataset/test/mask/01_test_mask.gif  \n",
            " extracting: /demo/LinkSeg/dataset/test/mask/02_test_mask.gif  \n",
            " extracting: /demo/LinkSeg/dataset/test/mask/03_test_mask.gif  \n",
            " extracting: /demo/LinkSeg/dataset/test/mask/04_test_mask.gif  \n",
            " extracting: /demo/LinkSeg/dataset/test/mask/05_test_mask.gif  \n",
            " extracting: /demo/LinkSeg/dataset/test/mask/06_test_mask.gif  \n",
            " extracting: /demo/LinkSeg/dataset/test/mask/07_test_mask.gif  \n",
            " extracting: /demo/LinkSeg/dataset/test/mask/08_test_mask.gif  \n",
            " extracting: /demo/LinkSeg/dataset/test/mask/09_test_mask.gif  \n",
            " extracting: /demo/LinkSeg/dataset/test/mask/10_test_mask.gif  \n",
            " extracting: /demo/LinkSeg/dataset/test/mask/11_test_mask.gif  \n",
            " extracting: /demo/LinkSeg/dataset/test/mask/12_test_mask.gif  \n",
            " extracting: /demo/LinkSeg/dataset/test/mask/13_test_mask.gif  \n",
            " extracting: /demo/LinkSeg/dataset/test/mask/14_test_mask.gif  \n",
            " extracting: /demo/LinkSeg/dataset/test/mask/15_test_mask.gif  \n",
            " extracting: /demo/LinkSeg/dataset/test/mask/16_test_mask.gif  \n",
            " extracting: /demo/LinkSeg/dataset/test/mask/17_test_mask.gif  \n",
            " extracting: /demo/LinkSeg/dataset/test/mask/18_test_mask.gif  \n",
            " extracting: /demo/LinkSeg/dataset/test/mask/19_test_mask.gif  \n",
            " extracting: /demo/LinkSeg/dataset/test/mask/20_test_mask.gif  \n"
          ]
        }
      ]
    },
    {
      "cell_type": "code",
      "source": [
        "!unzip /demo/LinkSeg/training.zip -d /demo/LinkSeg/dataset/"
      ],
      "metadata": {
        "colab": {
          "base_uri": "https://localhost:8080/"
        },
        "id": "7JFSn08zOP30",
        "outputId": "666b7bfd-30c6-48bc-9d9e-b2a75658adbc"
      },
      "execution_count": 8,
      "outputs": [
        {
          "output_type": "stream",
          "name": "stdout",
          "text": [
            "Archive:  /demo/LinkSeg/training.zip\n",
            "   creating: /demo/LinkSeg/dataset/training/\n",
            "   creating: /demo/LinkSeg/dataset/training/1st_manual/\n",
            " extracting: /demo/LinkSeg/dataset/training/1st_manual/21_manual1.gif  \n",
            " extracting: /demo/LinkSeg/dataset/training/1st_manual/22_manual1.gif  \n",
            " extracting: /demo/LinkSeg/dataset/training/1st_manual/23_manual1.gif  \n",
            " extracting: /demo/LinkSeg/dataset/training/1st_manual/24_manual1.gif  \n",
            " extracting: /demo/LinkSeg/dataset/training/1st_manual/25_manual1.gif  \n",
            " extracting: /demo/LinkSeg/dataset/training/1st_manual/26_manual1.gif  \n",
            " extracting: /demo/LinkSeg/dataset/training/1st_manual/27_manual1.gif  \n",
            " extracting: /demo/LinkSeg/dataset/training/1st_manual/28_manual1.gif  \n",
            " extracting: /demo/LinkSeg/dataset/training/1st_manual/29_manual1.gif  \n",
            " extracting: /demo/LinkSeg/dataset/training/1st_manual/30_manual1.gif  \n",
            " extracting: /demo/LinkSeg/dataset/training/1st_manual/31_manual1.gif  \n",
            " extracting: /demo/LinkSeg/dataset/training/1st_manual/32_manual1.gif  \n",
            " extracting: /demo/LinkSeg/dataset/training/1st_manual/33_manual1.gif  \n",
            " extracting: /demo/LinkSeg/dataset/training/1st_manual/34_manual1.gif  \n",
            " extracting: /demo/LinkSeg/dataset/training/1st_manual/35_manual1.gif  \n",
            " extracting: /demo/LinkSeg/dataset/training/1st_manual/36_manual1.gif  \n",
            " extracting: /demo/LinkSeg/dataset/training/1st_manual/37_manual1.gif  \n",
            " extracting: /demo/LinkSeg/dataset/training/1st_manual/38_manual1.gif  \n",
            " extracting: /demo/LinkSeg/dataset/training/1st_manual/39_manual1.gif  \n",
            " extracting: /demo/LinkSeg/dataset/training/1st_manual/40_manual1.gif  \n",
            "   creating: /demo/LinkSeg/dataset/training/images/\n",
            "  inflating: /demo/LinkSeg/dataset/training/images/21_training.tif  \n",
            "  inflating: /demo/LinkSeg/dataset/training/images/22_training.tif  \n",
            "  inflating: /demo/LinkSeg/dataset/training/images/23_training.tif  \n",
            "  inflating: /demo/LinkSeg/dataset/training/images/24_training.tif  \n",
            "  inflating: /demo/LinkSeg/dataset/training/images/25_training.tif  \n",
            "  inflating: /demo/LinkSeg/dataset/training/images/26_training.tif  \n",
            "  inflating: /demo/LinkSeg/dataset/training/images/27_training.tif  \n",
            "  inflating: /demo/LinkSeg/dataset/training/images/28_training.tif  \n",
            "  inflating: /demo/LinkSeg/dataset/training/images/29_training.tif  \n",
            "  inflating: /demo/LinkSeg/dataset/training/images/30_training.tif  \n",
            "  inflating: /demo/LinkSeg/dataset/training/images/31_training.tif  \n",
            "  inflating: /demo/LinkSeg/dataset/training/images/32_training.tif  \n",
            "  inflating: /demo/LinkSeg/dataset/training/images/33_training.tif  \n",
            "  inflating: /demo/LinkSeg/dataset/training/images/34_training.tif  \n",
            "  inflating: /demo/LinkSeg/dataset/training/images/35_training.tif  \n",
            "  inflating: /demo/LinkSeg/dataset/training/images/36_training.tif  \n",
            "  inflating: /demo/LinkSeg/dataset/training/images/37_training.tif  \n",
            "  inflating: /demo/LinkSeg/dataset/training/images/38_training.tif  \n",
            "  inflating: /demo/LinkSeg/dataset/training/images/39_training.tif  \n",
            "  inflating: /demo/LinkSeg/dataset/training/images/40_training.tif  \n",
            "   creating: /demo/LinkSeg/dataset/training/mask/\n",
            " extracting: /demo/LinkSeg/dataset/training/mask/21_training_mask.gif  \n",
            " extracting: /demo/LinkSeg/dataset/training/mask/22_training_mask.gif  \n",
            " extracting: /demo/LinkSeg/dataset/training/mask/23_training_mask.gif  \n",
            " extracting: /demo/LinkSeg/dataset/training/mask/24_training_mask.gif  \n",
            " extracting: /demo/LinkSeg/dataset/training/mask/25_training_mask.gif  \n",
            " extracting: /demo/LinkSeg/dataset/training/mask/26_training_mask.gif  \n",
            " extracting: /demo/LinkSeg/dataset/training/mask/27_training_mask.gif  \n",
            " extracting: /demo/LinkSeg/dataset/training/mask/28_training_mask.gif  \n",
            " extracting: /demo/LinkSeg/dataset/training/mask/29_training_mask.gif  \n",
            " extracting: /demo/LinkSeg/dataset/training/mask/30_training_mask.gif  \n",
            " extracting: /demo/LinkSeg/dataset/training/mask/31_training_mask.gif  \n",
            " extracting: /demo/LinkSeg/dataset/training/mask/32_training_mask.gif  \n",
            " extracting: /demo/LinkSeg/dataset/training/mask/33_training_mask.gif  \n",
            " extracting: /demo/LinkSeg/dataset/training/mask/34_training_mask.gif  \n",
            " extracting: /demo/LinkSeg/dataset/training/mask/35_training_mask.gif  \n",
            " extracting: /demo/LinkSeg/dataset/training/mask/36_training_mask.gif  \n",
            " extracting: /demo/LinkSeg/dataset/training/mask/37_training_mask.gif  \n",
            " extracting: /demo/LinkSeg/dataset/training/mask/38_training_mask.gif  \n",
            " extracting: /demo/LinkSeg/dataset/training/mask/39_training_mask.gif  \n",
            " extracting: /demo/LinkSeg/dataset/training/mask/40_training_mask.gif  \n"
          ]
        }
      ]
    },
    {
      "cell_type": "code",
      "source": [
        "data_path = \"/demo/LinkSeg/dataset\"\n",
        "print(data_path)"
      ],
      "metadata": {
        "colab": {
          "base_uri": "https://localhost:8080/"
        },
        "id": "QtuNw7o_OfmZ",
        "outputId": "437b903a-b8a5-447a-d267-aa87933cb8d0"
      },
      "execution_count": 9,
      "outputs": [
        {
          "output_type": "stream",
          "name": "stdout",
          "text": [
            "/demo/LinkSeg/dataset\n"
          ]
        }
      ]
    },
    {
      "cell_type": "code",
      "source": [
        "!cat data/augment.py"
      ],
      "metadata": {
        "colab": {
          "base_uri": "https://localhost:8080/"
        },
        "id": "v7Z_JG19S4UH",
        "outputId": "72de03b0-e991-4f7a-dbb1-0cb17fea18a9"
      },
      "execution_count": 10,
      "outputs": [
        {
          "output_type": "stream",
          "name": "stdout",
          "text": [
            "import os\n",
            "import numpy as np\n",
            "import cv2\n",
            "from glob import glob\n",
            "from tqdm import tqdm\n",
            "\n",
            "import imageio\n",
            "from albumentations import HorizontalFlip, VerticalFlip, Rotate\n",
            "\n",
            "\n",
            "def create_dir(path):\n",
            "\n",
            "    ### Create a directory\n",
            "    if not os.path.exists(path):\n",
            "        os.makedirs(path)\n",
            "\n",
            "def load_data(path):\n",
            "\n",
            "    ### Split data into train and test set\n",
            "    train_x = sorted(glob(os.path.join(path, \"training\", \"images\", \"*.tif\")))\n",
            "    train_y = sorted(glob(os.path.join(path, \"training\", \"1st_manual\", \"*.gif\")))\n",
            "\n",
            "    test_x = sorted(glob(os.path.join(path, \"test\", \"images\", \"*.tif\")))\n",
            "    test_y = sorted(glob(os.path.join(path, \"test\", \"mask\", \"*.gif\")))\n",
            "\n",
            "    return (train_x, train_y), (test_x, test_y)\n",
            "\n",
            "def augment_data(images, masks, save_path, augment=True):\n",
            "\n",
            "    ### Augmenting data into Horizontal,Vertical & Rotate\n",
            "\n",
            "    size = (512, 512)\n",
            "\n",
            "    for idx, (x, y) in tqdm(enumerate(zip(images, masks)), total=len(images)):\n",
            "        \"\"\" Extracting the name \"\"\"\n",
            "        name = x.split(\"/\")[-1].split(\".\")[0]\n",
            "\n",
            "        \"\"\" Reading image and mask \"\"\"\n",
            "        x = cv2.imread(x, cv2.IMREAD_COLOR)\n",
            "        y = imageio.mimread(y)[0]\n",
            "\n",
            "        if augment == True:\n",
            "            aug = HorizontalFlip(p=1.0)\n",
            "            augmented = aug(image=x, mask=y)\n",
            "            x1 = augmented[\"image\"]\n",
            "            y1 = augmented[\"mask\"]\n",
            "\n",
            "            aug = VerticalFlip(p=1.0)\n",
            "            augmented = aug(image=x, mask=y)\n",
            "            x2 = augmented[\"image\"]\n",
            "            y2 = augmented[\"mask\"]\n",
            "\n",
            "            aug = Rotate(limit=45, p=1.0)\n",
            "            augmented = aug(image=x, mask=y)\n",
            "            x3 = augmented[\"image\"]\n",
            "            y3 = augmented[\"mask\"]\n",
            "\n",
            "            X = [x, x1, x2, x3]\n",
            "            Y = [y, y1, y2, y3]\n",
            "\n",
            "        else:\n",
            "            X = [x]\n",
            "            Y = [y]\n",
            "\n",
            "        index = 0\n",
            "        for i, m in zip(X, Y):\n",
            "            i = cv2.resize(i, size)\n",
            "            m = cv2.resize(m, size)\n",
            "\n",
            "            tmp_image_name = f\"{name}_{index}.png\"\n",
            "            tmp_mask_name = f\"{name}_{index}.png\"\n",
            "\n",
            "            image_path = os.path.join(save_path, \"image\", tmp_image_name)\n",
            "            mask_path = os.path.join(save_path, \"mask\", tmp_mask_name)\n",
            "\n",
            "            cv2.imwrite(image_path, i)\n",
            "            cv2.imwrite(mask_path, m)\n",
            "\n",
            "            index += 1\n",
            "\n",
            "## Usage ##\n",
            "\n",
            "# if __name__ == \"__main__\":\n",
            "#     \"\"\" Seeding \"\"\"\n",
            "#     np.random.seed(42)\n",
            "\n",
            "#     \"\"\" Load the data \"\"\"\n",
            "#     data_path = \"<path/to/dataset>\"\n",
            "#     (train_x, train_y), (test_x, test_y) = load_data(data_path)\n",
            "\n",
            "#     print(f\"Train: {len(train_x)} - {len(train_y)}\")\n",
            "#     print(f\"Test: {len(test_x)} - {len(test_y)}\")\n",
            "\n",
            "#     \"\"\" Create directories to save the augmented data \"\"\"\n",
            "#     create_dir(\"<path/to/train/image>\")\n",
            "#     create_dir(\"<path/to/train/mask>\")\n",
            "#     create_dir(\"<path/to/test/image>\")\n",
            "#     create_dir(\"<path/to/test/mask>\")\n",
            "\n",
            "#     \"\"\" Data augmentation \"\"\"\n",
            "#     augment_data(train_x, train_y, \"<path/to/aug_data/train>\", augment=True)\n",
            "#     augment_data(test_x, test_y, \"<path/to/aug_data/test>\", augment=False)"
          ]
        }
      ]
    },
    {
      "cell_type": "code",
      "source": [
        "from data.augment import load_data\n",
        "(train_x, train_y), (test_x, test_y) = load_data(data_path)"
      ],
      "metadata": {
        "id": "A23GhbW-O9gB"
      },
      "execution_count": 11,
      "outputs": []
    },
    {
      "cell_type": "code",
      "source": [
        "print(f\"Train: {len(train_x)} - {len(train_y)}\")\n",
        "print(f\"Test: {len(test_x)} - {len(test_y)}\")"
      ],
      "metadata": {
        "colab": {
          "base_uri": "https://localhost:8080/"
        },
        "id": "oMhDz2u7Qt_C",
        "outputId": "206cc17e-a445-44dd-ff9f-10842dd044d0"
      },
      "execution_count": 12,
      "outputs": [
        {
          "output_type": "stream",
          "name": "stdout",
          "text": [
            "Train: 20 - 20\n",
            "Test: 20 - 20\n"
          ]
        }
      ]
    },
    {
      "cell_type": "code",
      "source": [
        "from data.augment import create_dir\n",
        "\n",
        "create_dir(\"/demo/LinkSeg/new_data/train/image\")\n",
        "create_dir(\"/demo/LinkSeg/new_data/train/mask\")\n",
        "create_dir(\"/demo/LinkSeg/new_data/test/image/\")\n",
        "create_dir(\"/demo/LinkSeg/new_data/test/mask/\")"
      ],
      "metadata": {
        "id": "B7JfkterRQNk"
      },
      "execution_count": 13,
      "outputs": []
    },
    {
      "cell_type": "code",
      "source": [
        "from data.augment import augment_data\n",
        "\n",
        "augment_data(train_x, train_y, \"/demo/LinkSeg/new_data/train\", augment=True)\n",
        "augment_data(test_x, test_y, \"/demo/LinkSeg/new_data/test\", augment=False)"
      ],
      "metadata": {
        "colab": {
          "base_uri": "https://localhost:8080/"
        },
        "id": "lwKpu06VTkqT",
        "outputId": "f292d9e3-bc1e-4f0b-c748-697415298058"
      },
      "execution_count": 14,
      "outputs": [
        {
          "output_type": "stream",
          "name": "stderr",
          "text": [
            "100%|██████████| 20/20 [00:01<00:00, 10.87it/s]\n",
            "100%|██████████| 20/20 [00:00<00:00, 36.43it/s]\n"
          ]
        }
      ]
    },
    {
      "cell_type": "code",
      "source": [
        "import torch\n",
        "from torch.utils.data import DataLoader\n",
        "\n",
        "import os\n",
        "from glob import glob\n",
        "\n",
        "from data.augment import load_data\n",
        "from data.dataset import DriveDataset\n",
        "\n",
        "\n",
        "data_path = \"/demo/LinkSeg/new_data\"\n",
        "\n",
        "train_x = sorted(glob(os.path.join(data_path, \"train\", \"image\", \"*.png\")))\n",
        "train_y = sorted(glob(os.path.join(data_path, \"train\", \"mask\", \"*.png\")))\n",
        "\n",
        "valid_x = sorted(glob(os.path.join(data_path, \"test\", \"image\", \"*.png\")))\n",
        "valid_y = sorted(glob(os.path.join(data_path, \"test\", \"mask\", \"*.png\")))\n",
        "\n",
        "print(f\"Train: {len(train_x)} - {len(train_y)}\")\n",
        "print(f\"Test: {len(valid_x)} - {len(valid_y)}\")\n",
        "\n",
        "train_dataset = DriveDataset(train_x, train_y)\n",
        " \n",
        "train_loader = DataLoader(\n",
        "        dataset=train_dataset,\n",
        "        batch_size=4,\n",
        "        shuffle=True,\n",
        "        num_workers=2\n",
        "    )\n",
        "\n",
        "val_dataset = DriveDataset(valid_x, valid_y)\n",
        "\n",
        "val_loader = DataLoader(\n",
        "        dataset=val_dataset,\n",
        "        batch_size=4,\n",
        "        shuffle=False,\n",
        "        num_workers=2\n",
        "    )"
      ],
      "metadata": {
        "colab": {
          "base_uri": "https://localhost:8080/"
        },
        "id": "se66Dr2AVzXK",
        "outputId": "9ff5a0fd-408c-4d07-f55c-bf5333f39a74"
      },
      "execution_count": 15,
      "outputs": [
        {
          "output_type": "stream",
          "name": "stdout",
          "text": [
            "Train: 80 - 80\n",
            "Test: 20 - 20\n"
          ]
        }
      ]
    },
    {
      "cell_type": "code",
      "source": [
        "!cat linkseg/__init__.py"
      ],
      "metadata": {
        "colab": {
          "base_uri": "https://localhost:8080/"
        },
        "id": "rlUG5woKaNpy",
        "outputId": "880b45a0-3eda-4007-b4cd-fb2361766d46"
      },
      "execution_count": 16,
      "outputs": [
        {
          "output_type": "stream",
          "name": "stdout",
          "text": [
            "from .loss import DiceLoss, IoU\n",
            "from .linknet import LinkNet\n",
            "from .training_utils import Train, Evaluate\n",
            "\n",
            "__all__ = [\n",
            "    DiceLoss,\n",
            "    IoU,\n",
            "    LinkNet,\n",
            "    Train,\n",
            "    Evaluate,\n",
            "]"
          ]
        }
      ]
    },
    {
      "cell_type": "code",
      "source": [
        "from linkseg import LinkNet, DiceLoss, IoU, Train, Evaluate\n",
        "\n",
        "from tqdm import tqdm\n",
        "\n",
        "# Training and Evaluate object\n",
        "train = Train(dice=DiceLoss(), iou=IoU())\n",
        "eval = Evaluate(dice=DiceLoss(), iou=IoU())\n",
        "\n",
        "# Model Initialization and setting up hyperparameters\n",
        "model = LinkNet()\n",
        "print(model)\n",
        "\n",
        "# Hyperparameters\n",
        "lr = 1e-4\n",
        "optimizer = torch.optim.Adam(model.parameters(), lr=lr)\n",
        "epochs = 50\n",
        "\n",
        "# Training\n",
        "for epoch in tqdm(range(epochs)):\n",
        "    print(\"Epoch: \", epoch)\n",
        "\n",
        "    train_dice, train_iou = train.forward(model=model, loader=train_loader, optimizer=optimizer)\n",
        "    val_dice, val_iou = eval.forward(model=model, loader=val_loader)\n",
        "\n",
        "torch.save(model.state_dict(), 'linknet.pth')"
      ],
      "metadata": {
        "colab": {
          "base_uri": "https://localhost:8080/"
        },
        "id": "3XvJEEWDXWJ0",
        "outputId": "05d28eb8-7fe1-453b-da37-cbb233f30c3b"
      },
      "execution_count": 17,
      "outputs": [
        {
          "output_type": "stream",
          "name": "stdout",
          "text": [
            "LinkNet(\n",
            "  (conv1): Conv2d(3, 64, kernel_size=(7, 7), stride=(2, 2), padding=(3, 3), bias=False)\n",
            "  (bn1): BatchNorm2d(64, eps=1e-05, momentum=0.1, affine=True, track_running_stats=True)\n",
            "  (relu): ReLU(inplace=True)\n",
            "  (maxpool): MaxPool2d(kernel_size=3, stride=2, padding=1, dilation=1, ceil_mode=False)\n",
            "  (encoder1): Encoder(\n",
            "    (block1): BasicBlock(\n",
            "      (conv1): Conv2d(64, 64, kernel_size=(3, 3), stride=(1, 1), padding=(1, 1), bias=False)\n",
            "      (bn1): BatchNorm2d(64, eps=1e-05, momentum=0.1, affine=True, track_running_stats=True)\n",
            "      (relu): ReLU(inplace=True)\n",
            "      (conv2): Conv2d(64, 64, kernel_size=(3, 3), stride=(1, 1), padding=(1, 1), bias=False)\n",
            "      (bn2): BatchNorm2d(64, eps=1e-05, momentum=0.1, affine=True, track_running_stats=True)\n",
            "    )\n",
            "    (block2): BasicBlock(\n",
            "      (conv1): Conv2d(64, 64, kernel_size=(3, 3), stride=(1, 1), padding=(1, 1), bias=False)\n",
            "      (bn1): BatchNorm2d(64, eps=1e-05, momentum=0.1, affine=True, track_running_stats=True)\n",
            "      (relu): ReLU(inplace=True)\n",
            "      (conv2): Conv2d(64, 64, kernel_size=(3, 3), stride=(1, 1), padding=(1, 1), bias=False)\n",
            "      (bn2): BatchNorm2d(64, eps=1e-05, momentum=0.1, affine=True, track_running_stats=True)\n",
            "    )\n",
            "  )\n",
            "  (encoder2): Encoder(\n",
            "    (block1): BasicBlock(\n",
            "      (conv1): Conv2d(64, 128, kernel_size=(3, 3), stride=(2, 2), padding=(1, 1), bias=False)\n",
            "      (bn1): BatchNorm2d(128, eps=1e-05, momentum=0.1, affine=True, track_running_stats=True)\n",
            "      (relu): ReLU(inplace=True)\n",
            "      (conv2): Conv2d(128, 128, kernel_size=(3, 3), stride=(1, 1), padding=(1, 1), bias=False)\n",
            "      (bn2): BatchNorm2d(128, eps=1e-05, momentum=0.1, affine=True, track_running_stats=True)\n",
            "      (downsample): Sequential(\n",
            "        (0): Conv2d(64, 128, kernel_size=(1, 1), stride=(2, 2), bias=False)\n",
            "        (1): BatchNorm2d(128, eps=1e-05, momentum=0.1, affine=True, track_running_stats=True)\n",
            "      )\n",
            "    )\n",
            "    (block2): BasicBlock(\n",
            "      (conv1): Conv2d(128, 128, kernel_size=(3, 3), stride=(1, 1), padding=(1, 1), bias=False)\n",
            "      (bn1): BatchNorm2d(128, eps=1e-05, momentum=0.1, affine=True, track_running_stats=True)\n",
            "      (relu): ReLU(inplace=True)\n",
            "      (conv2): Conv2d(128, 128, kernel_size=(3, 3), stride=(1, 1), padding=(1, 1), bias=False)\n",
            "      (bn2): BatchNorm2d(128, eps=1e-05, momentum=0.1, affine=True, track_running_stats=True)\n",
            "    )\n",
            "  )\n",
            "  (encoder3): Encoder(\n",
            "    (block1): BasicBlock(\n",
            "      (conv1): Conv2d(128, 256, kernel_size=(3, 3), stride=(2, 2), padding=(1, 1), bias=False)\n",
            "      (bn1): BatchNorm2d(256, eps=1e-05, momentum=0.1, affine=True, track_running_stats=True)\n",
            "      (relu): ReLU(inplace=True)\n",
            "      (conv2): Conv2d(256, 256, kernel_size=(3, 3), stride=(1, 1), padding=(1, 1), bias=False)\n",
            "      (bn2): BatchNorm2d(256, eps=1e-05, momentum=0.1, affine=True, track_running_stats=True)\n",
            "      (downsample): Sequential(\n",
            "        (0): Conv2d(128, 256, kernel_size=(1, 1), stride=(2, 2), bias=False)\n",
            "        (1): BatchNorm2d(256, eps=1e-05, momentum=0.1, affine=True, track_running_stats=True)\n",
            "      )\n",
            "    )\n",
            "    (block2): BasicBlock(\n",
            "      (conv1): Conv2d(256, 256, kernel_size=(3, 3), stride=(1, 1), padding=(1, 1), bias=False)\n",
            "      (bn1): BatchNorm2d(256, eps=1e-05, momentum=0.1, affine=True, track_running_stats=True)\n",
            "      (relu): ReLU(inplace=True)\n",
            "      (conv2): Conv2d(256, 256, kernel_size=(3, 3), stride=(1, 1), padding=(1, 1), bias=False)\n",
            "      (bn2): BatchNorm2d(256, eps=1e-05, momentum=0.1, affine=True, track_running_stats=True)\n",
            "    )\n",
            "  )\n",
            "  (encoder4): Encoder(\n",
            "    (block1): BasicBlock(\n",
            "      (conv1): Conv2d(256, 512, kernel_size=(3, 3), stride=(2, 2), padding=(1, 1), bias=False)\n",
            "      (bn1): BatchNorm2d(512, eps=1e-05, momentum=0.1, affine=True, track_running_stats=True)\n",
            "      (relu): ReLU(inplace=True)\n",
            "      (conv2): Conv2d(512, 512, kernel_size=(3, 3), stride=(1, 1), padding=(1, 1), bias=False)\n",
            "      (bn2): BatchNorm2d(512, eps=1e-05, momentum=0.1, affine=True, track_running_stats=True)\n",
            "      (downsample): Sequential(\n",
            "        (0): Conv2d(256, 512, kernel_size=(1, 1), stride=(2, 2), bias=False)\n",
            "        (1): BatchNorm2d(512, eps=1e-05, momentum=0.1, affine=True, track_running_stats=True)\n",
            "      )\n",
            "    )\n",
            "    (block2): BasicBlock(\n",
            "      (conv1): Conv2d(512, 512, kernel_size=(3, 3), stride=(1, 1), padding=(1, 1), bias=False)\n",
            "      (bn1): BatchNorm2d(512, eps=1e-05, momentum=0.1, affine=True, track_running_stats=True)\n",
            "      (relu): ReLU(inplace=True)\n",
            "      (conv2): Conv2d(512, 512, kernel_size=(3, 3), stride=(1, 1), padding=(1, 1), bias=False)\n",
            "      (bn2): BatchNorm2d(512, eps=1e-05, momentum=0.1, affine=True, track_running_stats=True)\n",
            "    )\n",
            "  )\n",
            "  (decoder1): Decoder(\n",
            "    (conv1): Sequential(\n",
            "      (0): Conv2d(64, 16, kernel_size=(1, 1), stride=(1, 1), bias=False)\n",
            "      (1): BatchNorm2d(16, eps=1e-05, momentum=0.1, affine=True, track_running_stats=True)\n",
            "      (2): ReLU(inplace=True)\n",
            "    )\n",
            "    (tp_conv): Sequential(\n",
            "      (0): ConvTranspose2d(16, 16, kernel_size=(3, 3), stride=(1, 1), padding=(1, 1), bias=False)\n",
            "      (1): BatchNorm2d(16, eps=1e-05, momentum=0.1, affine=True, track_running_stats=True)\n",
            "      (2): ReLU(inplace=True)\n",
            "    )\n",
            "    (conv2): Sequential(\n",
            "      (0): Conv2d(16, 64, kernel_size=(1, 1), stride=(1, 1), bias=False)\n",
            "      (1): BatchNorm2d(64, eps=1e-05, momentum=0.1, affine=True, track_running_stats=True)\n",
            "      (2): ReLU(inplace=True)\n",
            "    )\n",
            "  )\n",
            "  (decoder2): Decoder(\n",
            "    (conv1): Sequential(\n",
            "      (0): Conv2d(128, 32, kernel_size=(1, 1), stride=(1, 1), bias=False)\n",
            "      (1): BatchNorm2d(32, eps=1e-05, momentum=0.1, affine=True, track_running_stats=True)\n",
            "      (2): ReLU(inplace=True)\n",
            "    )\n",
            "    (tp_conv): Sequential(\n",
            "      (0): ConvTranspose2d(32, 32, kernel_size=(3, 3), stride=(2, 2), padding=(1, 1), output_padding=(1, 1), bias=False)\n",
            "      (1): BatchNorm2d(32, eps=1e-05, momentum=0.1, affine=True, track_running_stats=True)\n",
            "      (2): ReLU(inplace=True)\n",
            "    )\n",
            "    (conv2): Sequential(\n",
            "      (0): Conv2d(32, 64, kernel_size=(1, 1), stride=(1, 1), bias=False)\n",
            "      (1): BatchNorm2d(64, eps=1e-05, momentum=0.1, affine=True, track_running_stats=True)\n",
            "      (2): ReLU(inplace=True)\n",
            "    )\n",
            "  )\n",
            "  (decoder3): Decoder(\n",
            "    (conv1): Sequential(\n",
            "      (0): Conv2d(256, 64, kernel_size=(1, 1), stride=(1, 1), bias=False)\n",
            "      (1): BatchNorm2d(64, eps=1e-05, momentum=0.1, affine=True, track_running_stats=True)\n",
            "      (2): ReLU(inplace=True)\n",
            "    )\n",
            "    (tp_conv): Sequential(\n",
            "      (0): ConvTranspose2d(64, 64, kernel_size=(3, 3), stride=(2, 2), padding=(1, 1), output_padding=(1, 1), bias=False)\n",
            "      (1): BatchNorm2d(64, eps=1e-05, momentum=0.1, affine=True, track_running_stats=True)\n",
            "      (2): ReLU(inplace=True)\n",
            "    )\n",
            "    (conv2): Sequential(\n",
            "      (0): Conv2d(64, 128, kernel_size=(1, 1), stride=(1, 1), bias=False)\n",
            "      (1): BatchNorm2d(128, eps=1e-05, momentum=0.1, affine=True, track_running_stats=True)\n",
            "      (2): ReLU(inplace=True)\n",
            "    )\n",
            "  )\n",
            "  (decoder4): Decoder(\n",
            "    (conv1): Sequential(\n",
            "      (0): Conv2d(512, 128, kernel_size=(1, 1), stride=(1, 1), bias=False)\n",
            "      (1): BatchNorm2d(128, eps=1e-05, momentum=0.1, affine=True, track_running_stats=True)\n",
            "      (2): ReLU(inplace=True)\n",
            "    )\n",
            "    (tp_conv): Sequential(\n",
            "      (0): ConvTranspose2d(128, 128, kernel_size=(3, 3), stride=(2, 2), padding=(1, 1), output_padding=(1, 1), bias=False)\n",
            "      (1): BatchNorm2d(128, eps=1e-05, momentum=0.1, affine=True, track_running_stats=True)\n",
            "      (2): ReLU(inplace=True)\n",
            "    )\n",
            "    (conv2): Sequential(\n",
            "      (0): Conv2d(128, 256, kernel_size=(1, 1), stride=(1, 1), bias=False)\n",
            "      (1): BatchNorm2d(256, eps=1e-05, momentum=0.1, affine=True, track_running_stats=True)\n",
            "      (2): ReLU(inplace=True)\n",
            "    )\n",
            "  )\n",
            "  (tp_conv1): Sequential(\n",
            "    (0): ConvTranspose2d(64, 32, kernel_size=(3, 3), stride=(2, 2), padding=(1, 1), output_padding=(1, 1))\n",
            "    (1): BatchNorm2d(32, eps=1e-05, momentum=0.1, affine=True, track_running_stats=True)\n",
            "    (2): ReLU(inplace=True)\n",
            "  )\n",
            "  (conv2): Sequential(\n",
            "    (0): Conv2d(32, 32, kernel_size=(3, 3), stride=(1, 1), padding=(1, 1))\n",
            "    (1): BatchNorm2d(32, eps=1e-05, momentum=0.1, affine=True, track_running_stats=True)\n",
            "    (2): ReLU(inplace=True)\n",
            "  )\n",
            "  (tp_conv2): ConvTranspose2d(32, 1, kernel_size=(2, 2), stride=(2, 2))\n",
            "  (lsm): LogSoftmax(dim=1)\n",
            ")\n"
          ]
        },
        {
          "output_type": "stream",
          "name": "stderr",
          "text": [
            "\r  0%|          | 0/50 [00:00<?, ?it/s]"
          ]
        },
        {
          "output_type": "stream",
          "name": "stdout",
          "text": [
            "Epoch:  0\n",
            "Shifting the model to cuda!\n",
            "Train Dice Loss: 0.8504205197095871,  Train IoU Loss: 0.9191329091787338, \n",
            "Shifting the model to cuda!\n"
          ]
        },
        {
          "output_type": "stream",
          "name": "stderr",
          "text": [
            "\r  2%|▏         | 1/50 [00:15<12:37, 15.47s/it]"
          ]
        },
        {
          "output_type": "stream",
          "name": "stdout",
          "text": [
            "\n",
            "Validation Dice Loss: 0.4209925174713135,  Validation IoU Loss: 0.5925327420234681, \n",
            "Epoch:  1\n",
            "Shifting the model to cuda!\n",
            "Train Dice Loss: 0.8503723978996277,  Train IoU Loss: 0.9191176295280457, \n",
            "Shifting the model to cuda!\n"
          ]
        },
        {
          "output_type": "stream",
          "name": "stderr",
          "text": [
            "\r  4%|▍         | 2/50 [00:19<06:56,  8.69s/it]"
          ]
        },
        {
          "output_type": "stream",
          "name": "stdout",
          "text": [
            "\n",
            "Validation Dice Loss: 0.4209925174713135,  Validation IoU Loss: 0.5925327420234681, \n",
            "Epoch:  2\n",
            "Shifting the model to cuda!\n",
            "Train Dice Loss: 0.8504077374935151,  Train IoU Loss: 0.9191287517547607, \n",
            "Shifting the model to cuda!\n"
          ]
        },
        {
          "output_type": "stream",
          "name": "stderr",
          "text": [
            "\r  6%|▌         | 3/50 [00:22<04:56,  6.30s/it]"
          ]
        },
        {
          "output_type": "stream",
          "name": "stdout",
          "text": [
            "\n",
            "Validation Dice Loss: 0.4209925174713135,  Validation IoU Loss: 0.5925327420234681, \n",
            "Epoch:  3\n",
            "Shifting the model to cuda!\n",
            "Train Dice Loss: 0.8504287987947464,  Train IoU Loss: 0.9191354840993882, \n",
            "Shifting the model to cuda!\n"
          ]
        },
        {
          "output_type": "stream",
          "name": "stderr",
          "text": [
            "\r  8%|▊         | 4/50 [00:26<03:58,  5.18s/it]"
          ]
        },
        {
          "output_type": "stream",
          "name": "stdout",
          "text": [
            "\n",
            "Validation Dice Loss: 0.4209925174713135,  Validation IoU Loss: 0.5925327420234681, \n",
            "Epoch:  4\n",
            "Shifting the model to cuda!\n",
            "Train Dice Loss: 0.8503832280635834,  Train IoU Loss: 0.9191210120916367, \n",
            "Shifting the model to cuda!\n"
          ]
        },
        {
          "output_type": "stream",
          "name": "stderr",
          "text": [
            "\r 10%|█         | 5/50 [00:30<03:31,  4.70s/it]"
          ]
        },
        {
          "output_type": "stream",
          "name": "stdout",
          "text": [
            "\n",
            "Validation Dice Loss: 0.4209925174713135,  Validation IoU Loss: 0.5925327420234681, \n",
            "Epoch:  5\n",
            "Shifting the model to cuda!\n",
            "Train Dice Loss: 0.8504097640514374,  Train IoU Loss: 0.9191293597221375, \n",
            "Shifting the model to cuda!\n"
          ]
        },
        {
          "output_type": "stream",
          "name": "stderr",
          "text": [
            "\r 12%|█▏        | 6/50 [00:34<03:13,  4.41s/it]"
          ]
        },
        {
          "output_type": "stream",
          "name": "stdout",
          "text": [
            "\n",
            "Validation Dice Loss: 0.4209925174713135,  Validation IoU Loss: 0.5925327420234681, \n",
            "Epoch:  6\n",
            "Shifting the model to cuda!\n",
            "Train Dice Loss: 0.8503921538591385,  Train IoU Loss: 0.9191238880157471, \n",
            "Shifting the model to cuda!\n"
          ]
        },
        {
          "output_type": "stream",
          "name": "stderr",
          "text": [
            "\r 14%|█▍        | 7/50 [00:37<02:56,  4.12s/it]"
          ]
        },
        {
          "output_type": "stream",
          "name": "stdout",
          "text": [
            "\n",
            "Validation Dice Loss: 0.4209925174713135,  Validation IoU Loss: 0.5925327420234681, \n",
            "Epoch:  7\n",
            "Shifting the model to cuda!\n",
            "Train Dice Loss: 0.8504196524620056,  Train IoU Loss: 0.9191325575113296, \n",
            "Shifting the model to cuda!\n"
          ]
        },
        {
          "output_type": "stream",
          "name": "stderr",
          "text": [
            "\r 16%|█▌        | 8/50 [00:41<02:44,  3.93s/it]"
          ]
        },
        {
          "output_type": "stream",
          "name": "stdout",
          "text": [
            "\n",
            "Validation Dice Loss: 0.4209925174713135,  Validation IoU Loss: 0.5925327420234681, \n",
            "Epoch:  8\n",
            "Shifting the model to cuda!\n",
            "Train Dice Loss: 0.8503440469503403,  Train IoU Loss: 0.9191086173057557, \n",
            "Shifting the model to cuda!\n"
          ]
        },
        {
          "output_type": "stream",
          "name": "stderr",
          "text": [
            "\r 18%|█▊        | 9/50 [00:44<02:41,  3.93s/it]"
          ]
        },
        {
          "output_type": "stream",
          "name": "stdout",
          "text": [
            "\n",
            "Validation Dice Loss: 0.4209925174713135,  Validation IoU Loss: 0.5925327420234681, \n",
            "Epoch:  9\n",
            "Shifting the model to cuda!\n",
            "Train Dice Loss: 0.8504175037145615,  Train IoU Loss: 0.9191317290067673, \n",
            "Shifting the model to cuda!\n"
          ]
        },
        {
          "output_type": "stream",
          "name": "stderr",
          "text": [
            "\r 20%|██        | 10/50 [00:48<02:34,  3.86s/it]"
          ]
        },
        {
          "output_type": "stream",
          "name": "stdout",
          "text": [
            "\n",
            "Validation Dice Loss: 0.4209925174713135,  Validation IoU Loss: 0.5925327420234681, \n",
            "Epoch:  10\n",
            "Shifting the model to cuda!\n",
            "Train Dice Loss: 0.8504690378904343,  Train IoU Loss: 0.9191482096910477, \n",
            "Shifting the model to cuda!\n"
          ]
        },
        {
          "output_type": "stream",
          "name": "stderr",
          "text": [
            "\r 22%|██▏       | 11/50 [00:52<02:25,  3.74s/it]"
          ]
        },
        {
          "output_type": "stream",
          "name": "stdout",
          "text": [
            "\n",
            "Validation Dice Loss: 0.4209925174713135,  Validation IoU Loss: 0.5925327420234681, \n",
            "Epoch:  11\n",
            "Shifting the model to cuda!\n",
            "Train Dice Loss: 0.8504333108663559,  Train IoU Loss: 0.9191368490457534, \n",
            "Shifting the model to cuda!\n"
          ]
        },
        {
          "output_type": "stream",
          "name": "stderr",
          "text": [
            "\r 24%|██▍       | 12/50 [00:55<02:19,  3.67s/it]"
          ]
        },
        {
          "output_type": "stream",
          "name": "stdout",
          "text": [
            "\n",
            "Validation Dice Loss: 0.4209925174713135,  Validation IoU Loss: 0.5925327420234681, \n",
            "Epoch:  12\n",
            "Shifting the model to cuda!\n",
            "Train Dice Loss: 0.8504554122686386,  Train IoU Loss: 0.9191438227891922, \n",
            "Shifting the model to cuda!\n"
          ]
        },
        {
          "output_type": "stream",
          "name": "stderr",
          "text": [
            "\r 26%|██▌       | 13/50 [00:59<02:20,  3.80s/it]"
          ]
        },
        {
          "output_type": "stream",
          "name": "stdout",
          "text": [
            "\n",
            "Validation Dice Loss: 0.4209925174713135,  Validation IoU Loss: 0.5925327420234681, \n",
            "Epoch:  13\n",
            "Shifting the model to cuda!\n",
            "Train Dice Loss: 0.8503785610198975,  Train IoU Loss: 0.9191195905208588, \n",
            "Shifting the model to cuda!\n"
          ]
        },
        {
          "output_type": "stream",
          "name": "stderr",
          "text": [
            "\r 28%|██▊       | 14/50 [01:03<02:13,  3.71s/it]"
          ]
        },
        {
          "output_type": "stream",
          "name": "stdout",
          "text": [
            "\n",
            "Validation Dice Loss: 0.4209925174713135,  Validation IoU Loss: 0.5925327420234681, \n",
            "Epoch:  14\n",
            "Shifting the model to cuda!\n",
            "Train Dice Loss: 0.850424388051033,  Train IoU Loss: 0.9191341817378997, \n",
            "Shifting the model to cuda!\n"
          ]
        },
        {
          "output_type": "stream",
          "name": "stderr",
          "text": [
            "\r 30%|███       | 15/50 [01:06<02:07,  3.65s/it]"
          ]
        },
        {
          "output_type": "stream",
          "name": "stdout",
          "text": [
            "\n",
            "Validation Dice Loss: 0.4209925174713135,  Validation IoU Loss: 0.5925327420234681, \n",
            "Epoch:  15\n",
            "Shifting the model to cuda!\n",
            "Train Dice Loss: 0.8504023224115371,  Train IoU Loss: 0.9191272020339966, \n",
            "Shifting the model to cuda!\n"
          ]
        },
        {
          "output_type": "stream",
          "name": "stderr",
          "text": [
            "\r 32%|███▏      | 16/50 [01:10<02:05,  3.69s/it]"
          ]
        },
        {
          "output_type": "stream",
          "name": "stdout",
          "text": [
            "\n",
            "Validation Dice Loss: 0.4209925174713135,  Validation IoU Loss: 0.5925327420234681, \n",
            "Epoch:  16\n",
            "Shifting the model to cuda!\n",
            "Train Dice Loss: 0.8504198968410492,  Train IoU Loss: 0.9191325575113296, \n",
            "Shifting the model to cuda!\n"
          ]
        },
        {
          "output_type": "stream",
          "name": "stderr",
          "text": [
            "\r 34%|███▍      | 17/50 [01:14<02:04,  3.76s/it]"
          ]
        },
        {
          "output_type": "stream",
          "name": "stdout",
          "text": [
            "\n",
            "Validation Dice Loss: 0.4209925174713135,  Validation IoU Loss: 0.5925327420234681, \n",
            "Epoch:  17\n",
            "Shifting the model to cuda!\n",
            "Train Dice Loss: 0.8503938168287277,  Train IoU Loss: 0.9191243648529053, \n",
            "Shifting the model to cuda!\n"
          ]
        },
        {
          "output_type": "stream",
          "name": "stderr",
          "text": [
            "\r 36%|███▌      | 18/50 [01:18<01:57,  3.69s/it]"
          ]
        },
        {
          "output_type": "stream",
          "name": "stdout",
          "text": [
            "\n",
            "Validation Dice Loss: 0.4209925174713135,  Validation IoU Loss: 0.5925327420234681, \n",
            "Epoch:  18\n",
            "Shifting the model to cuda!\n",
            "Train Dice Loss: 0.8504231065511704,  Train IoU Loss: 0.9191336184740067, \n",
            "Shifting the model to cuda!\n"
          ]
        },
        {
          "output_type": "stream",
          "name": "stderr",
          "text": [
            "\r 38%|███▊      | 19/50 [01:21<01:52,  3.64s/it]"
          ]
        },
        {
          "output_type": "stream",
          "name": "stdout",
          "text": [
            "\n",
            "Validation Dice Loss: 0.4209925174713135,  Validation IoU Loss: 0.5925327420234681, \n",
            "Epoch:  19\n",
            "Shifting the model to cuda!\n",
            "Train Dice Loss: 0.8504137486219406,  Train IoU Loss: 0.9191305369138718, \n",
            "Shifting the model to cuda!\n"
          ]
        },
        {
          "output_type": "stream",
          "name": "stderr",
          "text": [
            "\r 40%|████      | 20/50 [01:25<01:51,  3.73s/it]"
          ]
        },
        {
          "output_type": "stream",
          "name": "stdout",
          "text": [
            "\n",
            "Validation Dice Loss: 0.4209925174713135,  Validation IoU Loss: 0.5925327420234681, \n",
            "Epoch:  20\n",
            "Shifting the model to cuda!\n",
            "Train Dice Loss: 0.8503763467073441,  Train IoU Loss: 0.9191188752651215, \n",
            "Shifting the model to cuda!\n"
          ]
        },
        {
          "output_type": "stream",
          "name": "stderr",
          "text": [
            "\r 42%|████▏     | 21/50 [01:29<01:49,  3.76s/it]"
          ]
        },
        {
          "output_type": "stream",
          "name": "stdout",
          "text": [
            "\n",
            "Validation Dice Loss: 0.4209925174713135,  Validation IoU Loss: 0.5925327420234681, \n",
            "Epoch:  21\n",
            "Shifting the model to cuda!\n",
            "Train Dice Loss: 0.8503689765930176,  Train IoU Loss: 0.9191165745258332, \n",
            "Shifting the model to cuda!\n"
          ]
        },
        {
          "output_type": "stream",
          "name": "stderr",
          "text": [
            "\r 44%|████▍     | 22/50 [01:32<01:43,  3.69s/it]"
          ]
        },
        {
          "output_type": "stream",
          "name": "stdout",
          "text": [
            "\n",
            "Validation Dice Loss: 0.4209925174713135,  Validation IoU Loss: 0.5925327420234681, \n",
            "Epoch:  22\n",
            "Shifting the model to cuda!\n",
            "Train Dice Loss: 0.8503966242074966,  Train IoU Loss: 0.9191253095865249, \n",
            "Shifting the model to cuda!\n"
          ]
        },
        {
          "output_type": "stream",
          "name": "stderr",
          "text": [
            "\r 46%|████▌     | 23/50 [01:36<01:38,  3.64s/it]"
          ]
        },
        {
          "output_type": "stream",
          "name": "stdout",
          "text": [
            "\n",
            "Validation Dice Loss: 0.4209925174713135,  Validation IoU Loss: 0.5925327420234681, \n",
            "Epoch:  23\n",
            "Shifting the model to cuda!\n",
            "Train Dice Loss: 0.8503745913505554,  Train IoU Loss: 0.9191182613372803, \n",
            "Shifting the model to cuda!\n"
          ]
        },
        {
          "output_type": "stream",
          "name": "stderr",
          "text": [
            "\r 48%|████▊     | 24/50 [01:40<01:37,  3.76s/it]"
          ]
        },
        {
          "output_type": "stream",
          "name": "stdout",
          "text": [
            "\n",
            "Validation Dice Loss: 0.4209925174713135,  Validation IoU Loss: 0.5925327420234681, \n",
            "Epoch:  24\n",
            "Shifting the model to cuda!\n",
            "Train Dice Loss: 0.8504614919424057,  Train IoU Loss: 0.9191458731889725, \n",
            "Shifting the model to cuda!\n"
          ]
        },
        {
          "output_type": "stream",
          "name": "stderr",
          "text": [
            "\r 50%|█████     | 25/50 [01:43<01:32,  3.71s/it]"
          ]
        },
        {
          "output_type": "stream",
          "name": "stdout",
          "text": [
            "\n",
            "Validation Dice Loss: 0.4209925174713135,  Validation IoU Loss: 0.5925327420234681, \n",
            "Epoch:  25\n",
            "Shifting the model to cuda!\n",
            "Train Dice Loss: 0.8504042446613311,  Train IoU Loss: 0.9191275864839554, \n",
            "Shifting the model to cuda!\n"
          ]
        },
        {
          "output_type": "stream",
          "name": "stderr",
          "text": [
            "\r 52%|█████▏    | 26/50 [01:47<01:27,  3.66s/it]"
          ]
        },
        {
          "output_type": "stream",
          "name": "stdout",
          "text": [
            "\n",
            "Validation Dice Loss: 0.4209925174713135,  Validation IoU Loss: 0.5925327420234681, \n",
            "Epoch:  26\n",
            "Shifting the model to cuda!\n",
            "Train Dice Loss: 0.8504365891218185,  Train IoU Loss: 0.9191378086805344, \n",
            "Shifting the model to cuda!\n"
          ]
        },
        {
          "output_type": "stream",
          "name": "stderr",
          "text": [
            "\r 54%|█████▍    | 27/50 [01:51<01:25,  3.70s/it]"
          ]
        },
        {
          "output_type": "stream",
          "name": "stdout",
          "text": [
            "\n",
            "Validation Dice Loss: 0.4209925174713135,  Validation IoU Loss: 0.5925327420234681, \n",
            "Epoch:  27\n",
            "Shifting the model to cuda!\n",
            "Train Dice Loss: 0.8504033386707306,  Train IoU Loss: 0.9191272974014282, \n",
            "Shifting the model to cuda!\n"
          ]
        },
        {
          "output_type": "stream",
          "name": "stderr",
          "text": [
            "\r 56%|█████▌    | 28/50 [01:55<01:23,  3.78s/it]"
          ]
        },
        {
          "output_type": "stream",
          "name": "stdout",
          "text": [
            "\n",
            "Validation Dice Loss: 0.4209925174713135,  Validation IoU Loss: 0.5925327420234681, \n",
            "Epoch:  28\n",
            "Shifting the model to cuda!\n",
            "Train Dice Loss: 0.850353080034256,  Train IoU Loss: 0.9191114723682403, \n",
            "Shifting the model to cuda!\n"
          ]
        },
        {
          "output_type": "stream",
          "name": "stderr",
          "text": [
            "\r 58%|█████▊    | 29/50 [01:58<01:17,  3.71s/it]"
          ]
        },
        {
          "output_type": "stream",
          "name": "stdout",
          "text": [
            "\n",
            "Validation Dice Loss: 0.4209925174713135,  Validation IoU Loss: 0.5925327420234681, \n",
            "Epoch:  29\n",
            "Shifting the model to cuda!\n",
            "Train Dice Loss: 0.8504433661699295,  Train IoU Loss: 0.9191398978233337, \n",
            "Shifting the model to cuda!\n"
          ]
        },
        {
          "output_type": "stream",
          "name": "stderr",
          "text": [
            "\r 60%|██████    | 30/50 [02:02<01:13,  3.66s/it]"
          ]
        },
        {
          "output_type": "stream",
          "name": "stdout",
          "text": [
            "\n",
            "Validation Dice Loss: 0.4209925174713135,  Validation IoU Loss: 0.5925327420234681, \n",
            "Epoch:  30\n",
            "Shifting the model to cuda!\n",
            "Train Dice Loss: 0.8503998458385468,  Train IoU Loss: 0.9191263318061829, \n",
            "Shifting the model to cuda!\n"
          ]
        },
        {
          "output_type": "stream",
          "name": "stderr",
          "text": [
            "\r 62%|██████▏   | 31/50 [02:06<01:11,  3.75s/it]"
          ]
        },
        {
          "output_type": "stream",
          "name": "stdout",
          "text": [
            "\n",
            "Validation Dice Loss: 0.4209925174713135,  Validation IoU Loss: 0.5925327420234681, \n",
            "Epoch:  31\n",
            "Shifting the model to cuda!\n",
            "Train Dice Loss: 0.8503515660762787,  Train IoU Loss: 0.9191110312938691, \n",
            "Shifting the model to cuda!\n"
          ]
        },
        {
          "output_type": "stream",
          "name": "stderr",
          "text": [
            "\r 64%|██████▍   | 32/50 [02:10<01:07,  3.78s/it]"
          ]
        },
        {
          "output_type": "stream",
          "name": "stdout",
          "text": [
            "\n",
            "Validation Dice Loss: 0.4209925174713135,  Validation IoU Loss: 0.5925327420234681, \n",
            "Epoch:  32\n",
            "Shifting the model to cuda!\n",
            "Train Dice Loss: 0.8504130870103837,  Train IoU Loss: 0.9191305100917816, \n",
            "Shifting the model to cuda!\n"
          ]
        },
        {
          "output_type": "stream",
          "name": "stderr",
          "text": [
            "\r 66%|██████▌   | 33/50 [02:13<01:03,  3.71s/it]"
          ]
        },
        {
          "output_type": "stream",
          "name": "stdout",
          "text": [
            "\n",
            "Validation Dice Loss: 0.4209925174713135,  Validation IoU Loss: 0.5925327420234681, \n",
            "Epoch:  33\n",
            "Shifting the model to cuda!\n",
            "Train Dice Loss: 0.8503949850797653,  Train IoU Loss: 0.9191247284412384, \n",
            "Shifting the model to cuda!\n"
          ]
        },
        {
          "output_type": "stream",
          "name": "stderr",
          "text": [
            "\r 68%|██████▊   | 34/50 [02:17<00:58,  3.66s/it]"
          ]
        },
        {
          "output_type": "stream",
          "name": "stdout",
          "text": [
            "\n",
            "Validation Dice Loss: 0.4209925174713135,  Validation IoU Loss: 0.5925327420234681, \n",
            "Epoch:  34\n",
            "Shifting the model to cuda!\n",
            "Train Dice Loss: 0.8504516065120697,  Train IoU Loss: 0.9191425859928131, \n",
            "Shifting the model to cuda!\n"
          ]
        },
        {
          "output_type": "stream",
          "name": "stderr",
          "text": [
            "\r 70%|███████   | 35/50 [02:21<00:56,  3.77s/it]"
          ]
        },
        {
          "output_type": "stream",
          "name": "stdout",
          "text": [
            "\n",
            "Validation Dice Loss: 0.4209925174713135,  Validation IoU Loss: 0.5925327420234681, \n",
            "Epoch:  35\n",
            "Shifting the model to cuda!\n",
            "Train Dice Loss: 0.8504198491573334,  Train IoU Loss: 0.919132462143898, \n",
            "Shifting the model to cuda!\n"
          ]
        },
        {
          "output_type": "stream",
          "name": "stderr",
          "text": [
            "\r 72%|███████▏  | 36/50 [02:24<00:52,  3.72s/it]"
          ]
        },
        {
          "output_type": "stream",
          "name": "stdout",
          "text": [
            "\n",
            "Validation Dice Loss: 0.4209925174713135,  Validation IoU Loss: 0.5925327420234681, \n",
            "Epoch:  36\n",
            "Shifting the model to cuda!\n",
            "Train Dice Loss: 0.8504004359245301,  Train IoU Loss: 0.9191263228654861, \n",
            "Shifting the model to cuda!\n"
          ]
        },
        {
          "output_type": "stream",
          "name": "stderr",
          "text": [
            "\r 74%|███████▍  | 37/50 [02:28<00:47,  3.66s/it]"
          ]
        },
        {
          "output_type": "stream",
          "name": "stdout",
          "text": [
            "\n",
            "Validation Dice Loss: 0.4209925174713135,  Validation IoU Loss: 0.5925327420234681, \n",
            "Epoch:  37\n",
            "Shifting the model to cuda!\n",
            "Train Dice Loss: 0.8504338592290879,  Train IoU Loss: 0.9191371381282807, \n",
            "Shifting the model to cuda!\n"
          ]
        },
        {
          "output_type": "stream",
          "name": "stderr",
          "text": [
            "\r 76%|███████▌  | 38/50 [02:32<00:44,  3.71s/it]"
          ]
        },
        {
          "output_type": "stream",
          "name": "stdout",
          "text": [
            "\n",
            "Validation Dice Loss: 0.4209925174713135,  Validation IoU Loss: 0.5925327420234681, \n",
            "Epoch:  38\n",
            "Shifting the model to cuda!\n",
            "Train Dice Loss: 0.8503784745931625,  Train IoU Loss: 0.919119581580162, \n",
            "Shifting the model to cuda!\n"
          ]
        },
        {
          "output_type": "stream",
          "name": "stderr",
          "text": [
            "\r 78%|███████▊  | 39/50 [02:36<00:41,  3.80s/it]"
          ]
        },
        {
          "output_type": "stream",
          "name": "stdout",
          "text": [
            "\n",
            "Validation Dice Loss: 0.4209925174713135,  Validation IoU Loss: 0.5925327420234681, \n",
            "Epoch:  39\n",
            "Shifting the model to cuda!\n",
            "Train Dice Loss: 0.8503972887992859,  Train IoU Loss: 0.9191254317760468, \n",
            "Shifting the model to cuda!\n"
          ]
        },
        {
          "output_type": "stream",
          "name": "stderr",
          "text": [
            "\r 80%|████████  | 40/50 [02:39<00:37,  3.74s/it]"
          ]
        },
        {
          "output_type": "stream",
          "name": "stdout",
          "text": [
            "\n",
            "Validation Dice Loss: 0.4209925174713135,  Validation IoU Loss: 0.5925327420234681, \n",
            "Epoch:  40\n",
            "Shifting the model to cuda!\n",
            "Train Dice Loss: 0.8503667324781418,  Train IoU Loss: 0.9191157788038253, \n",
            "Shifting the model to cuda!\n"
          ]
        },
        {
          "output_type": "stream",
          "name": "stderr",
          "text": [
            "\r 82%|████████▏ | 41/50 [02:43<00:33,  3.69s/it]"
          ]
        },
        {
          "output_type": "stream",
          "name": "stdout",
          "text": [
            "\n",
            "Validation Dice Loss: 0.4209925174713135,  Validation IoU Loss: 0.5925327420234681, \n",
            "Epoch:  41\n",
            "Shifting the model to cuda!\n",
            "Train Dice Loss: 0.8503863245248795,  Train IoU Loss: 0.9191220760345459, \n",
            "Shifting the model to cuda!\n"
          ]
        },
        {
          "output_type": "stream",
          "name": "stderr",
          "text": [
            "\r 84%|████████▍ | 42/50 [02:47<00:29,  3.74s/it]"
          ]
        },
        {
          "output_type": "stream",
          "name": "stdout",
          "text": [
            "\n",
            "Validation Dice Loss: 0.4209925174713135,  Validation IoU Loss: 0.5925327420234681, \n",
            "Epoch:  42\n",
            "Shifting the model to cuda!\n",
            "Train Dice Loss: 0.850389352440834,  Train IoU Loss: 0.9191230416297913, \n",
            "Shifting the model to cuda!\n"
          ]
        },
        {
          "output_type": "stream",
          "name": "stderr",
          "text": [
            "\r 86%|████████▌ | 43/50 [02:51<00:26,  3.77s/it]"
          ]
        },
        {
          "output_type": "stream",
          "name": "stdout",
          "text": [
            "\n",
            "Validation Dice Loss: 0.4209925174713135,  Validation IoU Loss: 0.5925327420234681, \n",
            "Epoch:  43\n",
            "Shifting the model to cuda!\n",
            "Train Dice Loss: 0.8504078388214111,  Train IoU Loss: 0.9191287904977798, \n",
            "Shifting the model to cuda!\n"
          ]
        },
        {
          "output_type": "stream",
          "name": "stderr",
          "text": [
            "\r 88%|████████▊ | 44/50 [02:54<00:22,  3.71s/it]"
          ]
        },
        {
          "output_type": "stream",
          "name": "stdout",
          "text": [
            "\n",
            "Validation Dice Loss: 0.4209925174713135,  Validation IoU Loss: 0.5925327420234681, \n",
            "Epoch:  44\n",
            "Shifting the model to cuda!\n",
            "Train Dice Loss: 0.8504206359386444,  Train IoU Loss: 0.9191326558589935, \n",
            "Shifting the model to cuda!\n"
          ]
        },
        {
          "output_type": "stream",
          "name": "stderr",
          "text": [
            "\r 90%|█████████ | 45/50 [02:58<00:18,  3.67s/it]"
          ]
        },
        {
          "output_type": "stream",
          "name": "stdout",
          "text": [
            "\n",
            "Validation Dice Loss: 0.4209925174713135,  Validation IoU Loss: 0.5925327420234681, \n",
            "Epoch:  45\n",
            "Shifting the model to cuda!\n",
            "Train Dice Loss: 0.8503814548254013,  Train IoU Loss: 0.9191204667091369, \n",
            "Shifting the model to cuda!\n"
          ]
        },
        {
          "output_type": "stream",
          "name": "stderr",
          "text": [
            "\r 92%|█████████▏| 46/50 [03:02<00:15,  3.80s/it]"
          ]
        },
        {
          "output_type": "stream",
          "name": "stdout",
          "text": [
            "\n",
            "Validation Dice Loss: 0.4209925174713135,  Validation IoU Loss: 0.5925327420234681, \n",
            "Epoch:  46\n",
            "Shifting the model to cuda!\n",
            "Train Dice Loss: 0.850381252169609,  Train IoU Loss: 0.9191204220056534, \n",
            "Shifting the model to cuda!\n"
          ]
        },
        {
          "output_type": "stream",
          "name": "stderr",
          "text": [
            "\r 94%|█████████▍| 47/50 [03:06<00:11,  3.79s/it]"
          ]
        },
        {
          "output_type": "stream",
          "name": "stdout",
          "text": [
            "\n",
            "Validation Dice Loss: 0.4209925174713135,  Validation IoU Loss: 0.5925327420234681, \n",
            "Epoch:  47\n",
            "Shifting the model to cuda!\n",
            "Train Dice Loss: 0.8504418641328811,  Train IoU Loss: 0.9191395074129105, \n",
            "Shifting the model to cuda!\n"
          ]
        },
        {
          "output_type": "stream",
          "name": "stderr",
          "text": [
            "\r 96%|█████████▌| 48/50 [03:09<00:07,  3.73s/it]"
          ]
        },
        {
          "output_type": "stream",
          "name": "stdout",
          "text": [
            "\n",
            "Validation Dice Loss: 0.4209925174713135,  Validation IoU Loss: 0.5925327420234681, \n",
            "Epoch:  48\n",
            "Shifting the model to cuda!\n",
            "Train Dice Loss: 0.8503808617591858,  Train IoU Loss: 0.9191202849149704, \n",
            "Shifting the model to cuda!\n"
          ]
        },
        {
          "output_type": "stream",
          "name": "stderr",
          "text": [
            "\r 98%|█████████▊| 49/50 [03:13<00:03,  3.71s/it]"
          ]
        },
        {
          "output_type": "stream",
          "name": "stdout",
          "text": [
            "\n",
            "Validation Dice Loss: 0.4209925174713135,  Validation IoU Loss: 0.5925327420234681, \n",
            "Epoch:  49\n",
            "Shifting the model to cuda!\n",
            "Train Dice Loss: 0.8504098802804947,  Train IoU Loss: 0.9191293507814408, \n",
            "Shifting the model to cuda!\n"
          ]
        },
        {
          "output_type": "stream",
          "name": "stderr",
          "text": [
            "100%|██████████| 50/50 [03:17<00:00,  3.95s/it]"
          ]
        },
        {
          "output_type": "stream",
          "name": "stdout",
          "text": [
            "\n",
            "Validation Dice Loss: 0.4209925174713135,  Validation IoU Loss: 0.5925327420234681, \n"
          ]
        },
        {
          "output_type": "stream",
          "name": "stderr",
          "text": [
            "\n"
          ]
        }
      ]
    },
    {
      "cell_type": "code",
      "source": [
        "torch.save(model.state_dict(), '/content/drive/MyDrive/linknet.pth')"
      ],
      "metadata": {
        "id": "9llo448caYpV"
      },
      "execution_count": null,
      "outputs": []
    }
  ]
}