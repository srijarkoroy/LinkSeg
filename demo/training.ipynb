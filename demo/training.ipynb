{
  "nbformat": 4,
  "nbformat_minor": 0,
  "metadata": {
    "colab": {
      "provenance": []
    },
    "kernelspec": {
      "name": "python3",
      "display_name": "Python 3"
    },
    "language_info": {
      "name": "python"
    }
  },
  "cells": [
    {
      "cell_type": "code",
      "source": [
        "import os\n",
        "from getpass import getpass\n",
        "\n",
        "user = getpass(\"Github User:\")\n",
        "password = getpass(\"Github Password:\")\n",
        "os.environ['GITHUB_AUTH'] = user + ':' + password"
      ],
      "metadata": {
        "colab": {
          "base_uri": "https://localhost:8080/"
        },
        "id": "ln2nCq6nFomZ",
        "outputId": "1a792f1a-b03a-4407-cf5c-162ed545798a"
      },
      "execution_count": 1,
      "outputs": [
        {
          "name": "stdout",
          "output_type": "stream",
          "text": [
            "Github User:··········\n",
            "Github Password:··········\n"
          ]
        }
      ]
    },
    {
      "cell_type": "code",
      "source": [
        "REPO_DIR = '/demo'\n",
        "%mkdir -p \"$REPO_DIR\"\n",
        "%cd \"$REPO_DIR\" \n",
        "!git clone https://$GITHUB_AUTH@github.com/srijarkoroy/LinkSeg \n",
        "%cd \"$REPO_DIR/LinkSeg\""
      ],
      "metadata": {
        "colab": {
          "base_uri": "https://localhost:8080/"
        },
        "id": "OUA0hmPwGdHj",
        "outputId": "6c42d39b-e9b7-4c0c-9d9f-0f1c9e91529c"
      },
      "execution_count": 2,
      "outputs": [
        {
          "output_type": "stream",
          "name": "stdout",
          "text": [
            "/demo\n",
            "Cloning into 'LinkSeg'...\n",
            "remote: Enumerating objects: 49, done.\u001b[K\n",
            "remote: Counting objects: 100% (49/49), done.\u001b[K\n",
            "remote: Compressing objects: 100% (40/40), done.\u001b[K\n",
            "remote: Total 49 (delta 17), reused 34 (delta 7), pack-reused 0\u001b[K\n",
            "Unpacking objects: 100% (49/49), 10.91 KiB | 1.21 MiB/s, done.\n",
            "/demo/LinkSeg\n"
          ]
        }
      ]
    },
    {
      "cell_type": "code",
      "source": [
        "!unzip /content/drive/MyDrive/datasets.zip -d /demo/LinkSeg"
      ],
      "metadata": {
        "colab": {
          "base_uri": "https://localhost:8080/"
        },
        "id": "a-icEgqaLhX_",
        "outputId": "a89bd133-fe76-4027-cbce-b2387e3e1aab"
      },
      "execution_count": 3,
      "outputs": [
        {
          "output_type": "stream",
          "name": "stdout",
          "text": [
            "Archive:  /content/drive/MyDrive/datasets.zip\n",
            "warning:  stripped absolute path spec from /\n",
            "mapname:  conversion of  failed\n",
            " extracting: /demo/LinkSeg/test.zip  \n",
            " extracting: /demo/LinkSeg/training.zip  \n"
          ]
        }
      ]
    },
    {
      "cell_type": "code",
      "source": [
        "%mkdir dataset/"
      ],
      "metadata": {
        "id": "RX4N3keWOIOB"
      },
      "execution_count": 4,
      "outputs": []
    },
    {
      "cell_type": "code",
      "source": [
        "!unzip /demo/LinkSeg/test.zip -d /demo/LinkSeg/dataset/"
      ],
      "metadata": {
        "colab": {
          "base_uri": "https://localhost:8080/"
        },
        "id": "FE2PYo3YNRbw",
        "outputId": "00e63ecc-e9c8-41b3-9cf3-8d7cc0fddc8b"
      },
      "execution_count": 5,
      "outputs": [
        {
          "output_type": "stream",
          "name": "stdout",
          "text": [
            "Archive:  /demo/LinkSeg/test.zip\n",
            "   creating: /demo/LinkSeg/dataset/test/\n",
            "   creating: /demo/LinkSeg/dataset/test/images/\n",
            "  inflating: /demo/LinkSeg/dataset/test/images/01_test.tif  \n",
            "  inflating: /demo/LinkSeg/dataset/test/images/02_test.tif  \n",
            "  inflating: /demo/LinkSeg/dataset/test/images/03_test.tif  \n",
            "  inflating: /demo/LinkSeg/dataset/test/images/04_test.tif  \n",
            "  inflating: /demo/LinkSeg/dataset/test/images/05_test.tif  \n",
            "  inflating: /demo/LinkSeg/dataset/test/images/06_test.tif  \n",
            "  inflating: /demo/LinkSeg/dataset/test/images/07_test.tif  \n",
            "  inflating: /demo/LinkSeg/dataset/test/images/08_test.tif  \n",
            "  inflating: /demo/LinkSeg/dataset/test/images/09_test.tif  \n",
            "  inflating: /demo/LinkSeg/dataset/test/images/10_test.tif  \n",
            "  inflating: /demo/LinkSeg/dataset/test/images/11_test.tif  \n",
            "  inflating: /demo/LinkSeg/dataset/test/images/12_test.tif  \n",
            "  inflating: /demo/LinkSeg/dataset/test/images/13_test.tif  \n",
            "  inflating: /demo/LinkSeg/dataset/test/images/14_test.tif  \n",
            "  inflating: /demo/LinkSeg/dataset/test/images/15_test.tif  \n",
            "  inflating: /demo/LinkSeg/dataset/test/images/16_test.tif  \n",
            "  inflating: /demo/LinkSeg/dataset/test/images/17_test.tif  \n",
            "  inflating: /demo/LinkSeg/dataset/test/images/18_test.tif  \n",
            "  inflating: /demo/LinkSeg/dataset/test/images/19_test.tif  \n",
            "  inflating: /demo/LinkSeg/dataset/test/images/20_test.tif  \n",
            "   creating: /demo/LinkSeg/dataset/test/mask/\n",
            " extracting: /demo/LinkSeg/dataset/test/mask/01_test_mask.gif  \n",
            " extracting: /demo/LinkSeg/dataset/test/mask/02_test_mask.gif  \n",
            " extracting: /demo/LinkSeg/dataset/test/mask/03_test_mask.gif  \n",
            " extracting: /demo/LinkSeg/dataset/test/mask/04_test_mask.gif  \n",
            " extracting: /demo/LinkSeg/dataset/test/mask/05_test_mask.gif  \n",
            " extracting: /demo/LinkSeg/dataset/test/mask/06_test_mask.gif  \n",
            " extracting: /demo/LinkSeg/dataset/test/mask/07_test_mask.gif  \n",
            " extracting: /demo/LinkSeg/dataset/test/mask/08_test_mask.gif  \n",
            " extracting: /demo/LinkSeg/dataset/test/mask/09_test_mask.gif  \n",
            " extracting: /demo/LinkSeg/dataset/test/mask/10_test_mask.gif  \n",
            " extracting: /demo/LinkSeg/dataset/test/mask/11_test_mask.gif  \n",
            " extracting: /demo/LinkSeg/dataset/test/mask/12_test_mask.gif  \n",
            " extracting: /demo/LinkSeg/dataset/test/mask/13_test_mask.gif  \n",
            " extracting: /demo/LinkSeg/dataset/test/mask/14_test_mask.gif  \n",
            " extracting: /demo/LinkSeg/dataset/test/mask/15_test_mask.gif  \n",
            " extracting: /demo/LinkSeg/dataset/test/mask/16_test_mask.gif  \n",
            " extracting: /demo/LinkSeg/dataset/test/mask/17_test_mask.gif  \n",
            " extracting: /demo/LinkSeg/dataset/test/mask/18_test_mask.gif  \n",
            " extracting: /demo/LinkSeg/dataset/test/mask/19_test_mask.gif  \n",
            " extracting: /demo/LinkSeg/dataset/test/mask/20_test_mask.gif  \n"
          ]
        }
      ]
    },
    {
      "cell_type": "code",
      "source": [
        "!unzip /demo/LinkSeg/training.zip -d /demo/LinkSeg/dataset/"
      ],
      "metadata": {
        "colab": {
          "base_uri": "https://localhost:8080/"
        },
        "id": "7JFSn08zOP30",
        "outputId": "123d0762-7b02-4a16-cd7f-3574ba47a651"
      },
      "execution_count": 6,
      "outputs": [
        {
          "output_type": "stream",
          "name": "stdout",
          "text": [
            "Archive:  /demo/LinkSeg/training.zip\n",
            "   creating: /demo/LinkSeg/dataset/training/\n",
            "   creating: /demo/LinkSeg/dataset/training/1st_manual/\n",
            " extracting: /demo/LinkSeg/dataset/training/1st_manual/21_manual1.gif  \n",
            " extracting: /demo/LinkSeg/dataset/training/1st_manual/22_manual1.gif  \n",
            " extracting: /demo/LinkSeg/dataset/training/1st_manual/23_manual1.gif  \n",
            " extracting: /demo/LinkSeg/dataset/training/1st_manual/24_manual1.gif  \n",
            " extracting: /demo/LinkSeg/dataset/training/1st_manual/25_manual1.gif  \n",
            " extracting: /demo/LinkSeg/dataset/training/1st_manual/26_manual1.gif  \n",
            " extracting: /demo/LinkSeg/dataset/training/1st_manual/27_manual1.gif  \n",
            " extracting: /demo/LinkSeg/dataset/training/1st_manual/28_manual1.gif  \n",
            " extracting: /demo/LinkSeg/dataset/training/1st_manual/29_manual1.gif  \n",
            " extracting: /demo/LinkSeg/dataset/training/1st_manual/30_manual1.gif  \n",
            " extracting: /demo/LinkSeg/dataset/training/1st_manual/31_manual1.gif  \n",
            " extracting: /demo/LinkSeg/dataset/training/1st_manual/32_manual1.gif  \n",
            " extracting: /demo/LinkSeg/dataset/training/1st_manual/33_manual1.gif  \n",
            " extracting: /demo/LinkSeg/dataset/training/1st_manual/34_manual1.gif  \n",
            " extracting: /demo/LinkSeg/dataset/training/1st_manual/35_manual1.gif  \n",
            " extracting: /demo/LinkSeg/dataset/training/1st_manual/36_manual1.gif  \n",
            " extracting: /demo/LinkSeg/dataset/training/1st_manual/37_manual1.gif  \n",
            " extracting: /demo/LinkSeg/dataset/training/1st_manual/38_manual1.gif  \n",
            " extracting: /demo/LinkSeg/dataset/training/1st_manual/39_manual1.gif  \n",
            " extracting: /demo/LinkSeg/dataset/training/1st_manual/40_manual1.gif  \n",
            "   creating: /demo/LinkSeg/dataset/training/images/\n",
            "  inflating: /demo/LinkSeg/dataset/training/images/21_training.tif  \n",
            "  inflating: /demo/LinkSeg/dataset/training/images/22_training.tif  \n",
            "  inflating: /demo/LinkSeg/dataset/training/images/23_training.tif  \n",
            "  inflating: /demo/LinkSeg/dataset/training/images/24_training.tif  \n",
            "  inflating: /demo/LinkSeg/dataset/training/images/25_training.tif  \n",
            "  inflating: /demo/LinkSeg/dataset/training/images/26_training.tif  \n",
            "  inflating: /demo/LinkSeg/dataset/training/images/27_training.tif  \n",
            "  inflating: /demo/LinkSeg/dataset/training/images/28_training.tif  \n",
            "  inflating: /demo/LinkSeg/dataset/training/images/29_training.tif  \n",
            "  inflating: /demo/LinkSeg/dataset/training/images/30_training.tif  \n",
            "  inflating: /demo/LinkSeg/dataset/training/images/31_training.tif  \n",
            "  inflating: /demo/LinkSeg/dataset/training/images/32_training.tif  \n",
            "  inflating: /demo/LinkSeg/dataset/training/images/33_training.tif  \n",
            "  inflating: /demo/LinkSeg/dataset/training/images/34_training.tif  \n",
            "  inflating: /demo/LinkSeg/dataset/training/images/35_training.tif  \n",
            "  inflating: /demo/LinkSeg/dataset/training/images/36_training.tif  \n",
            "  inflating: /demo/LinkSeg/dataset/training/images/37_training.tif  \n",
            "  inflating: /demo/LinkSeg/dataset/training/images/38_training.tif  \n",
            "  inflating: /demo/LinkSeg/dataset/training/images/39_training.tif  \n",
            "  inflating: /demo/LinkSeg/dataset/training/images/40_training.tif  \n",
            "   creating: /demo/LinkSeg/dataset/training/mask/\n",
            " extracting: /demo/LinkSeg/dataset/training/mask/21_training_mask.gif  \n",
            " extracting: /demo/LinkSeg/dataset/training/mask/22_training_mask.gif  \n",
            " extracting: /demo/LinkSeg/dataset/training/mask/23_training_mask.gif  \n",
            " extracting: /demo/LinkSeg/dataset/training/mask/24_training_mask.gif  \n",
            " extracting: /demo/LinkSeg/dataset/training/mask/25_training_mask.gif  \n",
            " extracting: /demo/LinkSeg/dataset/training/mask/26_training_mask.gif  \n",
            " extracting: /demo/LinkSeg/dataset/training/mask/27_training_mask.gif  \n",
            " extracting: /demo/LinkSeg/dataset/training/mask/28_training_mask.gif  \n",
            " extracting: /demo/LinkSeg/dataset/training/mask/29_training_mask.gif  \n",
            " extracting: /demo/LinkSeg/dataset/training/mask/30_training_mask.gif  \n",
            " extracting: /demo/LinkSeg/dataset/training/mask/31_training_mask.gif  \n",
            " extracting: /demo/LinkSeg/dataset/training/mask/32_training_mask.gif  \n",
            " extracting: /demo/LinkSeg/dataset/training/mask/33_training_mask.gif  \n",
            " extracting: /demo/LinkSeg/dataset/training/mask/34_training_mask.gif  \n",
            " extracting: /demo/LinkSeg/dataset/training/mask/35_training_mask.gif  \n",
            " extracting: /demo/LinkSeg/dataset/training/mask/36_training_mask.gif  \n",
            " extracting: /demo/LinkSeg/dataset/training/mask/37_training_mask.gif  \n",
            " extracting: /demo/LinkSeg/dataset/training/mask/38_training_mask.gif  \n",
            " extracting: /demo/LinkSeg/dataset/training/mask/39_training_mask.gif  \n",
            " extracting: /demo/LinkSeg/dataset/training/mask/40_training_mask.gif  \n"
          ]
        }
      ]
    },
    {
      "cell_type": "code",
      "source": [
        "data_path = \"/demo/LinkSeg/dataset\"\n",
        "print(data_path)"
      ],
      "metadata": {
        "colab": {
          "base_uri": "https://localhost:8080/"
        },
        "id": "QtuNw7o_OfmZ",
        "outputId": "665984a1-a0b1-4b11-f13f-5c7af8fddbc7"
      },
      "execution_count": 7,
      "outputs": [
        {
          "output_type": "stream",
          "name": "stdout",
          "text": [
            "/demo/LinkSeg/dataset\n"
          ]
        }
      ]
    },
    {
      "cell_type": "code",
      "source": [
        "!cat data/augment.py"
      ],
      "metadata": {
        "colab": {
          "base_uri": "https://localhost:8080/"
        },
        "id": "v7Z_JG19S4UH",
        "outputId": "487b04eb-266d-479a-9403-f00d7c8ada96"
      },
      "execution_count": 8,
      "outputs": [
        {
          "output_type": "stream",
          "name": "stdout",
          "text": [
            "import os\n",
            "import numpy as np\n",
            "import cv2\n",
            "from glob import glob\n",
            "from tqdm import tqdm\n",
            "\n",
            "import imageio\n",
            "from albumentations import HorizontalFlip, VerticalFlip, Rotate\n",
            "\n",
            "\n",
            "def create_dir(path):\n",
            "\n",
            "    ### Create a directory\n",
            "    if not os.path.exists(path):\n",
            "        os.makedirs(path)\n",
            "\n",
            "def load_data(path):\n",
            "\n",
            "    ### Split data into train and test set\n",
            "    train_x = sorted(glob(os.path.join(path, \"training\", \"images\", \"*.tif\")))\n",
            "    train_y = sorted(glob(os.path.join(path, \"training\", \"1st_manual\", \"*.gif\")))\n",
            "\n",
            "    test_x = sorted(glob(os.path.join(path, \"test\", \"images\", \"*.tif\")))\n",
            "    test_y = sorted(glob(os.path.join(path, \"test\", \"mask\", \"*.gif\")))\n",
            "\n",
            "    return (train_x, train_y), (test_x, test_y)\n",
            "\n",
            "def augment_data(images, masks, save_path, augment=True):\n",
            "\n",
            "    ### Augmenting data into Horizontal,Vertical & Rotate\n",
            "\n",
            "    size = (512, 512)\n",
            "\n",
            "    for idx, (x, y) in tqdm(enumerate(zip(images, masks)), total=len(images)):\n",
            "        \"\"\" Extracting the name \"\"\"\n",
            "        name = x.split(\"/\")[-1].split(\".\")[0]\n",
            "\n",
            "        \"\"\" Reading image and mask \"\"\"\n",
            "        x = cv2.imread(x, cv2.IMREAD_COLOR)\n",
            "        y = imageio.mimread(y)[0]\n",
            "\n",
            "        if augment == True:\n",
            "            aug = HorizontalFlip(p=1.0)\n",
            "            augmented = aug(image=x, mask=y)\n",
            "            x1 = augmented[\"image\"]\n",
            "            y1 = augmented[\"mask\"]\n",
            "\n",
            "            aug = VerticalFlip(p=1.0)\n",
            "            augmented = aug(image=x, mask=y)\n",
            "            x2 = augmented[\"image\"]\n",
            "            y2 = augmented[\"mask\"]\n",
            "\n",
            "            aug = Rotate(limit=45, p=1.0)\n",
            "            augmented = aug(image=x, mask=y)\n",
            "            x3 = augmented[\"image\"]\n",
            "            y3 = augmented[\"mask\"]\n",
            "\n",
            "            X = [x, x1, x2, x3]\n",
            "            Y = [y, y1, y2, y3]\n",
            "\n",
            "        else:\n",
            "            X = [x]\n",
            "            Y = [y]\n",
            "\n",
            "        index = 0\n",
            "        for i, m in zip(X, Y):\n",
            "            i = cv2.resize(i, size)\n",
            "            m = cv2.resize(m, size)\n",
            "\n",
            "            tmp_image_name = f\"{name}_{index}.png\"\n",
            "            tmp_mask_name = f\"{name}_{index}.png\"\n",
            "\n",
            "            image_path = os.path.join(save_path, \"image\", tmp_image_name)\n",
            "            mask_path = os.path.join(save_path, \"mask\", tmp_mask_name)\n",
            "\n",
            "            cv2.imwrite(image_path, i)\n",
            "            cv2.imwrite(mask_path, m)\n",
            "\n",
            "            index += 1\n",
            "\n",
            "## Usage ##\n",
            "\n",
            "# if __name__ == \"__main__\":\n",
            "#     \"\"\" Seeding \"\"\"\n",
            "#     np.random.seed(42)\n",
            "\n",
            "#     \"\"\" Load the data \"\"\"\n",
            "#     data_path = \"<path/to/dataset>\"\n",
            "#     (train_x, train_y), (test_x, test_y) = load_data(data_path)\n",
            "\n",
            "#     print(f\"Train: {len(train_x)} - {len(train_y)}\")\n",
            "#     print(f\"Test: {len(test_x)} - {len(test_y)}\")\n",
            "\n",
            "#     \"\"\" Create directories to save the augmented data \"\"\"\n",
            "#     create_dir(\"<path/to/train/image>\")\n",
            "#     create_dir(\"<path/to/train/mask>\")\n",
            "#     create_dir(\"<path/to/test/image>\")\n",
            "#     create_dir(\"<path/to/test/mask>\")\n",
            "\n",
            "#     \"\"\" Data augmentation \"\"\"\n",
            "#     augment_data(train_x, train_y, \"<path/to/aug_data/train>\", augment=True)\n",
            "#     augment_data(test_x, test_y, \"<path/to/aug_data/test>\", augment=False)"
          ]
        }
      ]
    },
    {
      "cell_type": "code",
      "source": [
        "from data.augment import load_data\n",
        "(train_x, train_y), (test_x, test_y) = load_data(data_path)"
      ],
      "metadata": {
        "id": "A23GhbW-O9gB"
      },
      "execution_count": 9,
      "outputs": []
    },
    {
      "cell_type": "code",
      "source": [
        "print(f\"Train: {len(train_x)} - {len(train_y)}\")\n",
        "print(f\"Test: {len(test_x)} - {len(test_y)}\")"
      ],
      "metadata": {
        "colab": {
          "base_uri": "https://localhost:8080/"
        },
        "id": "oMhDz2u7Qt_C",
        "outputId": "09908e48-65df-4018-b485-82364e987a4d"
      },
      "execution_count": 10,
      "outputs": [
        {
          "output_type": "stream",
          "name": "stdout",
          "text": [
            "Train: 20 - 20\n",
            "Test: 20 - 20\n"
          ]
        }
      ]
    },
    {
      "cell_type": "code",
      "source": [
        "from data.augment import create_dir\n",
        "\n",
        "create_dir(\"/demo/LinkSeg/new_data/train/image\")\n",
        "create_dir(\"/demo/LinkSeg/new_data/train/mask\")\n",
        "create_dir(\"/demo/LinkSeg/new_data/test/image/\")\n",
        "create_dir(\"/demo/LinkSeg/new_data/test/mask/\")"
      ],
      "metadata": {
        "id": "B7JfkterRQNk"
      },
      "execution_count": 11,
      "outputs": []
    },
    {
      "cell_type": "code",
      "source": [
        "from data.augment import augment_data\n",
        "\n",
        "augment_data(train_x, train_y, \"/demo/LinkSeg/new_data/train\", augment=True)\n",
        "augment_data(test_x, test_y, \"/demo/LinkSeg/new_data/test\", augment=False)"
      ],
      "metadata": {
        "colab": {
          "base_uri": "https://localhost:8080/"
        },
        "id": "lwKpu06VTkqT",
        "outputId": "6b7a591c-56ff-4a58-bd50-c73743dd0a8a"
      },
      "execution_count": 12,
      "outputs": [
        {
          "output_type": "stream",
          "name": "stderr",
          "text": [
            "100%|██████████| 20/20 [00:02<00:00,  8.12it/s]\n",
            "100%|██████████| 20/20 [00:00<00:00, 26.74it/s]\n"
          ]
        }
      ]
    }
  ]
}