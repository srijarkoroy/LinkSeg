{
  "nbformat": 4,
  "nbformat_minor": 0,
  "metadata": {
    "colab": {
      "provenance": []
    },
    "kernelspec": {
      "name": "python3",
      "display_name": "Python 3"
    },
    "language_info": {
      "name": "python"
    },
    "accelerator": "GPU",
    "gpuClass": "standard"
  },
  "cells": [
    {
      "cell_type": "code",
      "source": [
        "!nvidia-smi"
      ],
      "metadata": {
        "colab": {
          "base_uri": "https://localhost:8080/"
        },
        "id": "PvcL38hzkML9",
        "outputId": "0d542ba7-ffad-4fa9-fa70-757646f2b9f4"
      },
      "execution_count": 1,
      "outputs": [
        {
          "output_type": "stream",
          "name": "stdout",
          "text": [
            "Thu Mar  9 15:47:44 2023       \n",
            "+-----------------------------------------------------------------------------+\n",
            "| NVIDIA-SMI 525.85.12    Driver Version: 525.85.12    CUDA Version: 12.0     |\n",
            "|-------------------------------+----------------------+----------------------+\n",
            "| GPU  Name        Persistence-M| Bus-Id        Disp.A | Volatile Uncorr. ECC |\n",
            "| Fan  Temp  Perf  Pwr:Usage/Cap|         Memory-Usage | GPU-Util  Compute M. |\n",
            "|                               |                      |               MIG M. |\n",
            "|===============================+======================+======================|\n",
            "|   0  Tesla T4            Off  | 00000000:00:04.0 Off |                    0 |\n",
            "| N/A   58C    P0    28W /  70W |      0MiB / 15360MiB |      0%      Default |\n",
            "|                               |                      |                  N/A |\n",
            "+-------------------------------+----------------------+----------------------+\n",
            "                                                                               \n",
            "+-----------------------------------------------------------------------------+\n",
            "| Processes:                                                                  |\n",
            "|  GPU   GI   CI        PID   Type   Process name                  GPU Memory |\n",
            "|        ID   ID                                                   Usage      |\n",
            "|=============================================================================|\n",
            "|  No running processes found                                                 |\n",
            "+-----------------------------------------------------------------------------+\n"
          ]
        }
      ]
    },
    {
      "cell_type": "code",
      "source": [
        "from google.colab import drive\n",
        "drive.mount('/content/drive')"
      ],
      "metadata": {
        "colab": {
          "base_uri": "https://localhost:8080/"
        },
        "id": "LABDAq5kZD2g",
        "outputId": "19864bb9-c629-4b77-a1bd-6df69745ad1d"
      },
      "execution_count": 2,
      "outputs": [
        {
          "output_type": "stream",
          "name": "stdout",
          "text": [
            "Drive already mounted at /content/drive; to attempt to forcibly remount, call drive.mount(\"/content/drive\", force_remount=True).\n"
          ]
        }
      ]
    },
    {
      "cell_type": "code",
      "source": [
        "import os\n",
        "from getpass import getpass\n",
        "\n",
        "user = getpass(\"Github User:\")\n",
        "password = getpass(\"Github Password:\")\n",
        "os.environ['GITHUB_AUTH'] = user + ':' + password"
      ],
      "metadata": {
        "colab": {
          "base_uri": "https://localhost:8080/"
        },
        "id": "ln2nCq6nFomZ",
        "outputId": "3428f429-7ad3-487b-88d6-db22ded2c1b5"
      },
      "execution_count": 3,
      "outputs": [
        {
          "name": "stdout",
          "output_type": "stream",
          "text": [
            "Github User:··········\n",
            "Github Password:··········\n"
          ]
        }
      ]
    },
    {
      "cell_type": "code",
      "source": [
        "REPO_DIR = '/demo'\n",
        "%mkdir -p \"$REPO_DIR\"\n",
        "%cd \"$REPO_DIR\" \n",
        "!git clone https://$GITHUB_AUTH@github.com/srijarkoroy/LinkSeg \n",
        "%cd \"$REPO_DIR/LinkSeg\""
      ],
      "metadata": {
        "colab": {
          "base_uri": "https://localhost:8080/"
        },
        "id": "OUA0hmPwGdHj",
        "outputId": "4c7ca28b-6063-4817-ee16-5a277352f73b"
      },
      "execution_count": 4,
      "outputs": [
        {
          "output_type": "stream",
          "name": "stdout",
          "text": [
            "/demo\n",
            "Cloning into 'LinkSeg'...\n",
            "remote: Enumerating objects: 116, done.\u001b[K\n",
            "remote: Counting objects: 100% (116/116), done.\u001b[K\n",
            "remote: Compressing objects: 100% (86/86), done.\u001b[K\n",
            "remote: Total 116 (delta 51), reused 84 (delta 23), pack-reused 0\u001b[K\n",
            "Receiving objects: 100% (116/116), 654.19 KiB | 17.68 MiB/s, done.\n",
            "Resolving deltas: 100% (51/51), done.\n",
            "/demo/LinkSeg\n"
          ]
        }
      ]
    },
    {
      "cell_type": "code",
      "source": [
        "!unzip /content/drive/MyDrive/datasets.zip -d /demo/LinkSeg"
      ],
      "metadata": {
        "colab": {
          "base_uri": "https://localhost:8080/"
        },
        "id": "a-icEgqaLhX_",
        "outputId": "acbbf923-0369-4b27-c6af-271ba9b97a39"
      },
      "execution_count": 5,
      "outputs": [
        {
          "output_type": "stream",
          "name": "stdout",
          "text": [
            "Archive:  /content/drive/MyDrive/datasets.zip\n",
            "warning:  stripped absolute path spec from /\n",
            "mapname:  conversion of  failed\n",
            " extracting: /demo/LinkSeg/test.zip  \n",
            " extracting: /demo/LinkSeg/training.zip  \n"
          ]
        }
      ]
    },
    {
      "cell_type": "code",
      "source": [
        "%mkdir dataset/"
      ],
      "metadata": {
        "id": "RX4N3keWOIOB"
      },
      "execution_count": 6,
      "outputs": []
    },
    {
      "cell_type": "code",
      "source": [
        "!unzip /demo/LinkSeg/test.zip -d /demo/LinkSeg/dataset/"
      ],
      "metadata": {
        "colab": {
          "base_uri": "https://localhost:8080/"
        },
        "id": "FE2PYo3YNRbw",
        "outputId": "d8558346-bd4a-497f-a7a9-c997826161a0"
      },
      "execution_count": 7,
      "outputs": [
        {
          "output_type": "stream",
          "name": "stdout",
          "text": [
            "Archive:  /demo/LinkSeg/test.zip\n",
            "   creating: /demo/LinkSeg/dataset/test/\n",
            "   creating: /demo/LinkSeg/dataset/test/images/\n",
            "  inflating: /demo/LinkSeg/dataset/test/images/01_test.tif  \n",
            "  inflating: /demo/LinkSeg/dataset/test/images/02_test.tif  \n",
            "  inflating: /demo/LinkSeg/dataset/test/images/03_test.tif  \n",
            "  inflating: /demo/LinkSeg/dataset/test/images/04_test.tif  \n",
            "  inflating: /demo/LinkSeg/dataset/test/images/05_test.tif  \n",
            "  inflating: /demo/LinkSeg/dataset/test/images/06_test.tif  \n",
            "  inflating: /demo/LinkSeg/dataset/test/images/07_test.tif  \n",
            "  inflating: /demo/LinkSeg/dataset/test/images/08_test.tif  \n",
            "  inflating: /demo/LinkSeg/dataset/test/images/09_test.tif  \n",
            "  inflating: /demo/LinkSeg/dataset/test/images/10_test.tif  \n",
            "  inflating: /demo/LinkSeg/dataset/test/images/11_test.tif  \n",
            "  inflating: /demo/LinkSeg/dataset/test/images/12_test.tif  \n",
            "  inflating: /demo/LinkSeg/dataset/test/images/13_test.tif  \n",
            "  inflating: /demo/LinkSeg/dataset/test/images/14_test.tif  \n",
            "  inflating: /demo/LinkSeg/dataset/test/images/15_test.tif  \n",
            "  inflating: /demo/LinkSeg/dataset/test/images/16_test.tif  \n",
            "  inflating: /demo/LinkSeg/dataset/test/images/17_test.tif  \n",
            "  inflating: /demo/LinkSeg/dataset/test/images/18_test.tif  \n",
            "  inflating: /demo/LinkSeg/dataset/test/images/19_test.tif  \n",
            "  inflating: /demo/LinkSeg/dataset/test/images/20_test.tif  \n",
            "   creating: /demo/LinkSeg/dataset/test/mask/\n",
            " extracting: /demo/LinkSeg/dataset/test/mask/01_test_mask.gif  \n",
            " extracting: /demo/LinkSeg/dataset/test/mask/02_test_mask.gif  \n",
            " extracting: /demo/LinkSeg/dataset/test/mask/03_test_mask.gif  \n",
            " extracting: /demo/LinkSeg/dataset/test/mask/04_test_mask.gif  \n",
            " extracting: /demo/LinkSeg/dataset/test/mask/05_test_mask.gif  \n",
            " extracting: /demo/LinkSeg/dataset/test/mask/06_test_mask.gif  \n",
            " extracting: /demo/LinkSeg/dataset/test/mask/07_test_mask.gif  \n",
            " extracting: /demo/LinkSeg/dataset/test/mask/08_test_mask.gif  \n",
            " extracting: /demo/LinkSeg/dataset/test/mask/09_test_mask.gif  \n",
            " extracting: /demo/LinkSeg/dataset/test/mask/10_test_mask.gif  \n",
            " extracting: /demo/LinkSeg/dataset/test/mask/11_test_mask.gif  \n",
            " extracting: /demo/LinkSeg/dataset/test/mask/12_test_mask.gif  \n",
            " extracting: /demo/LinkSeg/dataset/test/mask/13_test_mask.gif  \n",
            " extracting: /demo/LinkSeg/dataset/test/mask/14_test_mask.gif  \n",
            " extracting: /demo/LinkSeg/dataset/test/mask/15_test_mask.gif  \n",
            " extracting: /demo/LinkSeg/dataset/test/mask/16_test_mask.gif  \n",
            " extracting: /demo/LinkSeg/dataset/test/mask/17_test_mask.gif  \n",
            " extracting: /demo/LinkSeg/dataset/test/mask/18_test_mask.gif  \n",
            " extracting: /demo/LinkSeg/dataset/test/mask/19_test_mask.gif  \n",
            " extracting: /demo/LinkSeg/dataset/test/mask/20_test_mask.gif  \n"
          ]
        }
      ]
    },
    {
      "cell_type": "code",
      "source": [
        "!unzip /demo/LinkSeg/training.zip -d /demo/LinkSeg/dataset/"
      ],
      "metadata": {
        "colab": {
          "base_uri": "https://localhost:8080/"
        },
        "id": "7JFSn08zOP30",
        "outputId": "95681d49-af7d-4792-de31-231732db903c"
      },
      "execution_count": 8,
      "outputs": [
        {
          "output_type": "stream",
          "name": "stdout",
          "text": [
            "Archive:  /demo/LinkSeg/training.zip\n",
            "   creating: /demo/LinkSeg/dataset/training/\n",
            "   creating: /demo/LinkSeg/dataset/training/1st_manual/\n",
            " extracting: /demo/LinkSeg/dataset/training/1st_manual/21_manual1.gif  \n",
            " extracting: /demo/LinkSeg/dataset/training/1st_manual/22_manual1.gif  \n",
            " extracting: /demo/LinkSeg/dataset/training/1st_manual/23_manual1.gif  \n",
            " extracting: /demo/LinkSeg/dataset/training/1st_manual/24_manual1.gif  \n",
            " extracting: /demo/LinkSeg/dataset/training/1st_manual/25_manual1.gif  \n",
            " extracting: /demo/LinkSeg/dataset/training/1st_manual/26_manual1.gif  \n",
            " extracting: /demo/LinkSeg/dataset/training/1st_manual/27_manual1.gif  \n",
            " extracting: /demo/LinkSeg/dataset/training/1st_manual/28_manual1.gif  \n",
            " extracting: /demo/LinkSeg/dataset/training/1st_manual/29_manual1.gif  \n",
            " extracting: /demo/LinkSeg/dataset/training/1st_manual/30_manual1.gif  \n",
            " extracting: /demo/LinkSeg/dataset/training/1st_manual/31_manual1.gif  \n",
            " extracting: /demo/LinkSeg/dataset/training/1st_manual/32_manual1.gif  \n",
            " extracting: /demo/LinkSeg/dataset/training/1st_manual/33_manual1.gif  \n",
            " extracting: /demo/LinkSeg/dataset/training/1st_manual/34_manual1.gif  \n",
            " extracting: /demo/LinkSeg/dataset/training/1st_manual/35_manual1.gif  \n",
            " extracting: /demo/LinkSeg/dataset/training/1st_manual/36_manual1.gif  \n",
            " extracting: /demo/LinkSeg/dataset/training/1st_manual/37_manual1.gif  \n",
            " extracting: /demo/LinkSeg/dataset/training/1st_manual/38_manual1.gif  \n",
            " extracting: /demo/LinkSeg/dataset/training/1st_manual/39_manual1.gif  \n",
            " extracting: /demo/LinkSeg/dataset/training/1st_manual/40_manual1.gif  \n",
            "   creating: /demo/LinkSeg/dataset/training/images/\n",
            "  inflating: /demo/LinkSeg/dataset/training/images/21_training.tif  \n",
            "  inflating: /demo/LinkSeg/dataset/training/images/22_training.tif  \n",
            "  inflating: /demo/LinkSeg/dataset/training/images/23_training.tif  \n",
            "  inflating: /demo/LinkSeg/dataset/training/images/24_training.tif  \n",
            "  inflating: /demo/LinkSeg/dataset/training/images/25_training.tif  \n",
            "  inflating: /demo/LinkSeg/dataset/training/images/26_training.tif  \n",
            "  inflating: /demo/LinkSeg/dataset/training/images/27_training.tif  \n",
            "  inflating: /demo/LinkSeg/dataset/training/images/28_training.tif  \n",
            "  inflating: /demo/LinkSeg/dataset/training/images/29_training.tif  \n",
            "  inflating: /demo/LinkSeg/dataset/training/images/30_training.tif  \n",
            "  inflating: /demo/LinkSeg/dataset/training/images/31_training.tif  \n",
            "  inflating: /demo/LinkSeg/dataset/training/images/32_training.tif  \n",
            "  inflating: /demo/LinkSeg/dataset/training/images/33_training.tif  \n",
            "  inflating: /demo/LinkSeg/dataset/training/images/34_training.tif  \n",
            "  inflating: /demo/LinkSeg/dataset/training/images/35_training.tif  \n",
            "  inflating: /demo/LinkSeg/dataset/training/images/36_training.tif  \n",
            "  inflating: /demo/LinkSeg/dataset/training/images/37_training.tif  \n",
            "  inflating: /demo/LinkSeg/dataset/training/images/38_training.tif  \n",
            "  inflating: /demo/LinkSeg/dataset/training/images/39_training.tif  \n",
            "  inflating: /demo/LinkSeg/dataset/training/images/40_training.tif  \n",
            "   creating: /demo/LinkSeg/dataset/training/mask/\n",
            " extracting: /demo/LinkSeg/dataset/training/mask/21_training_mask.gif  \n",
            " extracting: /demo/LinkSeg/dataset/training/mask/22_training_mask.gif  \n",
            " extracting: /demo/LinkSeg/dataset/training/mask/23_training_mask.gif  \n",
            " extracting: /demo/LinkSeg/dataset/training/mask/24_training_mask.gif  \n",
            " extracting: /demo/LinkSeg/dataset/training/mask/25_training_mask.gif  \n",
            " extracting: /demo/LinkSeg/dataset/training/mask/26_training_mask.gif  \n",
            " extracting: /demo/LinkSeg/dataset/training/mask/27_training_mask.gif  \n",
            " extracting: /demo/LinkSeg/dataset/training/mask/28_training_mask.gif  \n",
            " extracting: /demo/LinkSeg/dataset/training/mask/29_training_mask.gif  \n",
            " extracting: /demo/LinkSeg/dataset/training/mask/30_training_mask.gif  \n",
            " extracting: /demo/LinkSeg/dataset/training/mask/31_training_mask.gif  \n",
            " extracting: /demo/LinkSeg/dataset/training/mask/32_training_mask.gif  \n",
            " extracting: /demo/LinkSeg/dataset/training/mask/33_training_mask.gif  \n",
            " extracting: /demo/LinkSeg/dataset/training/mask/34_training_mask.gif  \n",
            " extracting: /demo/LinkSeg/dataset/training/mask/35_training_mask.gif  \n",
            " extracting: /demo/LinkSeg/dataset/training/mask/36_training_mask.gif  \n",
            " extracting: /demo/LinkSeg/dataset/training/mask/37_training_mask.gif  \n",
            " extracting: /demo/LinkSeg/dataset/training/mask/38_training_mask.gif  \n",
            " extracting: /demo/LinkSeg/dataset/training/mask/39_training_mask.gif  \n",
            " extracting: /demo/LinkSeg/dataset/training/mask/40_training_mask.gif  \n"
          ]
        }
      ]
    },
    {
      "cell_type": "code",
      "source": [
        "data_path = \"/demo/LinkSeg/dataset\"\n",
        "print(data_path)"
      ],
      "metadata": {
        "colab": {
          "base_uri": "https://localhost:8080/"
        },
        "id": "QtuNw7o_OfmZ",
        "outputId": "b6d29d56-d55b-4a13-86fa-6090a496998e"
      },
      "execution_count": 9,
      "outputs": [
        {
          "output_type": "stream",
          "name": "stdout",
          "text": [
            "/demo/LinkSeg/dataset\n"
          ]
        }
      ]
    },
    {
      "cell_type": "code",
      "source": [
        "!cat data/augment.py"
      ],
      "metadata": {
        "colab": {
          "base_uri": "https://localhost:8080/"
        },
        "id": "v7Z_JG19S4UH",
        "outputId": "69bfb5b4-66d4-4684-8d72-956105afcd09"
      },
      "execution_count": 10,
      "outputs": [
        {
          "output_type": "stream",
          "name": "stdout",
          "text": [
            "import os\n",
            "import numpy as np\n",
            "import cv2\n",
            "from glob import glob\n",
            "from tqdm import tqdm\n",
            "\n",
            "import imageio\n",
            "from albumentations import HorizontalFlip, VerticalFlip, Rotate\n",
            "\n",
            "\n",
            "def create_dir(path):\n",
            "\n",
            "    ### Create a directory\n",
            "    if not os.path.exists(path):\n",
            "        os.makedirs(path)\n",
            "\n",
            "def load_data(path):\n",
            "\n",
            "    ### Split data into train and test set\n",
            "    train_x = sorted(glob(os.path.join(path, \"training\", \"images\", \"*.tif\")))\n",
            "    train_y = sorted(glob(os.path.join(path, \"training\", \"1st_manual\", \"*.gif\")))\n",
            "\n",
            "    test_x = sorted(glob(os.path.join(path, \"test\", \"images\", \"*.tif\")))\n",
            "    test_y = sorted(glob(os.path.join(path, \"test\", \"mask\", \"*.gif\")))\n",
            "\n",
            "    return (train_x, train_y), (test_x, test_y)\n",
            "\n",
            "def augment_data(images, masks, save_path, augment=True):\n",
            "\n",
            "    ### Augmenting data into Horizontal,Vertical & Rotate\n",
            "\n",
            "    size = (512, 512)\n",
            "\n",
            "    for idx, (x, y) in tqdm(enumerate(zip(images, masks)), total=len(images)):\n",
            "        \"\"\" Extracting the name \"\"\"\n",
            "        name = x.split(\"/\")[-1].split(\".\")[0]\n",
            "\n",
            "        \"\"\" Reading image and mask \"\"\"\n",
            "        x = cv2.imread(x, cv2.IMREAD_COLOR)\n",
            "        y = imageio.mimread(y)[0]\n",
            "\n",
            "        if augment == True:\n",
            "            aug = HorizontalFlip(p=1.0)\n",
            "            augmented = aug(image=x, mask=y)\n",
            "            x1 = augmented[\"image\"]\n",
            "            y1 = augmented[\"mask\"]\n",
            "\n",
            "            aug = VerticalFlip(p=1.0)\n",
            "            augmented = aug(image=x, mask=y)\n",
            "            x2 = augmented[\"image\"]\n",
            "            y2 = augmented[\"mask\"]\n",
            "\n",
            "            aug = Rotate(limit=45, p=1.0)\n",
            "            augmented = aug(image=x, mask=y)\n",
            "            x3 = augmented[\"image\"]\n",
            "            y3 = augmented[\"mask\"]\n",
            "\n",
            "            X = [x, x1, x2, x3]\n",
            "            Y = [y, y1, y2, y3]\n",
            "\n",
            "        else:\n",
            "            X = [x]\n",
            "            Y = [y]\n",
            "\n",
            "        index = 0\n",
            "        for i, m in zip(X, Y):\n",
            "            i = cv2.resize(i, size)\n",
            "            m = cv2.resize(m, size)\n",
            "\n",
            "            tmp_image_name = f\"{name}_{index}.png\"\n",
            "            tmp_mask_name = f\"{name}_{index}.png\"\n",
            "\n",
            "            image_path = os.path.join(save_path, \"image\", tmp_image_name)\n",
            "            mask_path = os.path.join(save_path, \"mask\", tmp_mask_name)\n",
            "\n",
            "            cv2.imwrite(image_path, i)\n",
            "            cv2.imwrite(mask_path, m)\n",
            "\n",
            "            index += 1\n",
            "\n",
            "## Usage ##\n",
            "\n",
            "# if __name__ == \"__main__\":\n",
            "#     \"\"\" Seeding \"\"\"\n",
            "#     np.random.seed(42)\n",
            "\n",
            "#     \"\"\" Load the data \"\"\"\n",
            "#     data_path = \"<path/to/dataset>\"\n",
            "#     (train_x, train_y), (test_x, test_y) = load_data(data_path)\n",
            "\n",
            "#     print(f\"Train: {len(train_x)} - {len(train_y)}\")\n",
            "#     print(f\"Test: {len(test_x)} - {len(test_y)}\")\n",
            "\n",
            "#     \"\"\" Create directories to save the augmented data \"\"\"\n",
            "#     create_dir(\"<path/to/train/image>\")\n",
            "#     create_dir(\"<path/to/train/mask>\")\n",
            "#     create_dir(\"<path/to/test/image>\")\n",
            "#     create_dir(\"<path/to/test/mask>\")\n",
            "\n",
            "#     \"\"\" Data augmentation \"\"\"\n",
            "#     augment_data(train_x, train_y, \"<path/to/aug_data/train>\", augment=True)\n",
            "#     augment_data(test_x, test_y, \"<path/to/aug_data/test>\", augment=False)"
          ]
        }
      ]
    },
    {
      "cell_type": "code",
      "source": [
        "from data.augment import load_data\n",
        "(train_x, train_y), (test_x, test_y) = load_data(data_path)"
      ],
      "metadata": {
        "id": "A23GhbW-O9gB"
      },
      "execution_count": 11,
      "outputs": []
    },
    {
      "cell_type": "code",
      "source": [
        "print(f\"Train: {len(train_x)} - {len(train_y)}\")\n",
        "print(f\"Test: {len(test_x)} - {len(test_y)}\")"
      ],
      "metadata": {
        "colab": {
          "base_uri": "https://localhost:8080/"
        },
        "id": "oMhDz2u7Qt_C",
        "outputId": "925403dd-4cd2-4b48-d9ea-a17121a563a4"
      },
      "execution_count": 12,
      "outputs": [
        {
          "output_type": "stream",
          "name": "stdout",
          "text": [
            "Train: 20 - 20\n",
            "Test: 20 - 20\n"
          ]
        }
      ]
    },
    {
      "cell_type": "code",
      "source": [
        "from data.augment import create_dir\n",
        "\n",
        "create_dir(\"/demo/LinkSeg/new_data/train/image\")\n",
        "create_dir(\"/demo/LinkSeg/new_data/train/mask\")\n",
        "create_dir(\"/demo/LinkSeg/new_data/test/image/\")\n",
        "create_dir(\"/demo/LinkSeg/new_data/test/mask/\")"
      ],
      "metadata": {
        "id": "B7JfkterRQNk"
      },
      "execution_count": 13,
      "outputs": []
    },
    {
      "cell_type": "code",
      "source": [
        "from data.augment import augment_data\n",
        "\n",
        "augment_data(train_x, train_y, \"/demo/LinkSeg/new_data/train\", augment=True)\n",
        "augment_data(test_x, test_y, \"/demo/LinkSeg/new_data/test\", augment=False)"
      ],
      "metadata": {
        "colab": {
          "base_uri": "https://localhost:8080/"
        },
        "id": "lwKpu06VTkqT",
        "outputId": "1272470b-38f9-4516-e3ba-8fdcc46a6454"
      },
      "execution_count": 14,
      "outputs": [
        {
          "output_type": "stream",
          "name": "stderr",
          "text": [
            "100%|██████████| 20/20 [00:01<00:00, 11.26it/s]\n",
            "100%|██████████| 20/20 [00:00<00:00, 36.20it/s]\n"
          ]
        }
      ]
    },
    {
      "cell_type": "code",
      "source": [
        "import torch\n",
        "from torch.utils.data import DataLoader\n",
        "\n",
        "import os\n",
        "from glob import glob\n",
        "\n",
        "from data.augment import load_data\n",
        "from data.dataset import DriveDataset\n",
        "\n",
        "\n",
        "data_path = \"/demo/LinkSeg/new_data\"\n",
        "\n",
        "train_x = sorted(glob(os.path.join(data_path, \"train\", \"image\", \"*.png\")))\n",
        "train_y = sorted(glob(os.path.join(data_path, \"train\", \"mask\", \"*.png\")))\n",
        "\n",
        "valid_x = sorted(glob(os.path.join(data_path, \"test\", \"image\", \"*.png\")))\n",
        "valid_y = sorted(glob(os.path.join(data_path, \"test\", \"mask\", \"*.png\")))\n",
        "\n",
        "print(f\"Train: {len(train_x)} - {len(train_y)}\")\n",
        "print(f\"Test: {len(valid_x)} - {len(valid_y)}\")\n",
        "\n",
        "train_dataset = DriveDataset(train_x, train_y)\n",
        " \n",
        "train_loader = DataLoader(\n",
        "        dataset=train_dataset,\n",
        "        batch_size=4,\n",
        "        shuffle=True,\n",
        "        num_workers=2\n",
        "    )\n",
        "\n",
        "val_dataset = DriveDataset(valid_x, valid_y)\n",
        "\n",
        "val_loader = DataLoader(\n",
        "        dataset=val_dataset,\n",
        "        batch_size=4,\n",
        "        shuffle=False,\n",
        "        num_workers=2\n",
        "    )"
      ],
      "metadata": {
        "colab": {
          "base_uri": "https://localhost:8080/"
        },
        "id": "se66Dr2AVzXK",
        "outputId": "5a4f6ba1-2a4e-4632-c898-2264956a9171"
      },
      "execution_count": 15,
      "outputs": [
        {
          "output_type": "stream",
          "name": "stdout",
          "text": [
            "Train: 80 - 80\n",
            "Test: 20 - 20\n"
          ]
        }
      ]
    },
    {
      "cell_type": "code",
      "source": [
        "!cat linkseg/__init__.py"
      ],
      "metadata": {
        "colab": {
          "base_uri": "https://localhost:8080/"
        },
        "id": "rlUG5woKaNpy",
        "outputId": "2fad0659-b0a0-42be-b0a2-d7dfa3b6adb0"
      },
      "execution_count": 16,
      "outputs": [
        {
          "output_type": "stream",
          "name": "stdout",
          "text": [
            "from .loss import DiceLoss, IoU\n",
            "from .linknet import LinkNet\n",
            "from .training_utils import Train, Evaluate\n",
            "\n",
            "__all__ = [\n",
            "    DiceLoss,\n",
            "    IoU,\n",
            "    LinkNet,\n",
            "    Train,\n",
            "    Evaluate,\n",
            "]"
          ]
        }
      ]
    },
    {
      "cell_type": "code",
      "source": [
        "from linkseg import LinkNet, DiceLoss, IoU, Train, Evaluate\n",
        "from linkseg import plotter\n",
        "\n",
        "from tqdm import tqdm\n",
        "\n",
        "# Training and Evaluate object\n",
        "train = Train(dice=DiceLoss(), iou=IoU())\n",
        "eval = Evaluate(dice=DiceLoss(), iou=IoU())\n",
        "\n",
        "# Model Initialization and setting up hyperparameters\n",
        "model = LinkNet()\n",
        "print(model)\n",
        "\n",
        "# Hyperparameters\n",
        "lr = 1e-4\n",
        "optimizer = torch.optim.Adam(model.parameters(), lr=lr)\n",
        "epochs = 100\n",
        "\n",
        "dice_loss = []\n",
        "iou_loss = []\n",
        "\n",
        "# Training\n",
        "for epoch in tqdm(range(epochs)):\n",
        "    print(\"Epoch: \", epoch)\n",
        "\n",
        "    train_dice, train_iou = train.forward(model=model, loader=train_loader, optimizer=optimizer)\n",
        "    val_dice, val_iou = eval.forward(model=model, loader=val_loader)\n",
        "\n",
        "    dice_loss.append(train_dice)\n",
        "    iou_loss.append(train_iou)\n",
        "\n",
        "plotter.plot(dice_loss, iou_loss)\n",
        "\n",
        "torch.save(model.state_dict(), 'linknet.pth')"
      ],
      "metadata": {
        "colab": {
          "base_uri": "https://localhost:8080/",
          "height": 1000
        },
        "id": "3XvJEEWDXWJ0",
        "outputId": "9986c043-5e47-47f5-d566-8084b570d40e"
      },
      "execution_count": 17,
      "outputs": [
        {
          "output_type": "stream",
          "name": "stdout",
          "text": [
            "LinkNet(\n",
            "  (encoder1): EncoderBlock(\n",
            "    (conv): ConvBlock(\n",
            "      (conv1): Conv2d(3, 64, kernel_size=(3, 3), stride=(1, 1), padding=(1, 1))\n",
            "      (bn1): BatchNorm2d(64, eps=1e-05, momentum=0.1, affine=True, track_running_stats=True)\n",
            "      (conv2): Conv2d(64, 64, kernel_size=(3, 3), stride=(1, 1), padding=(1, 1))\n",
            "      (bn2): BatchNorm2d(64, eps=1e-05, momentum=0.1, affine=True, track_running_stats=True)\n",
            "      (relu): ReLU()\n",
            "    )\n",
            "    (pool): MaxPool2d(kernel_size=(2, 2), stride=(2, 2), padding=0, dilation=1, ceil_mode=False)\n",
            "  )\n",
            "  (encoder2): EncoderBlock(\n",
            "    (conv): ConvBlock(\n",
            "      (conv1): Conv2d(64, 128, kernel_size=(3, 3), stride=(1, 1), padding=(1, 1))\n",
            "      (bn1): BatchNorm2d(128, eps=1e-05, momentum=0.1, affine=True, track_running_stats=True)\n",
            "      (conv2): Conv2d(128, 128, kernel_size=(3, 3), stride=(1, 1), padding=(1, 1))\n",
            "      (bn2): BatchNorm2d(128, eps=1e-05, momentum=0.1, affine=True, track_running_stats=True)\n",
            "      (relu): ReLU()\n",
            "    )\n",
            "    (pool): MaxPool2d(kernel_size=(2, 2), stride=(2, 2), padding=0, dilation=1, ceil_mode=False)\n",
            "  )\n",
            "  (encoder3): EncoderBlock(\n",
            "    (conv): ConvBlock(\n",
            "      (conv1): Conv2d(128, 256, kernel_size=(3, 3), stride=(1, 1), padding=(1, 1))\n",
            "      (bn1): BatchNorm2d(256, eps=1e-05, momentum=0.1, affine=True, track_running_stats=True)\n",
            "      (conv2): Conv2d(256, 256, kernel_size=(3, 3), stride=(1, 1), padding=(1, 1))\n",
            "      (bn2): BatchNorm2d(256, eps=1e-05, momentum=0.1, affine=True, track_running_stats=True)\n",
            "      (relu): ReLU()\n",
            "    )\n",
            "    (pool): MaxPool2d(kernel_size=(2, 2), stride=(2, 2), padding=0, dilation=1, ceil_mode=False)\n",
            "  )\n",
            "  (encoder4): EncoderBlock(\n",
            "    (conv): ConvBlock(\n",
            "      (conv1): Conv2d(256, 512, kernel_size=(3, 3), stride=(1, 1), padding=(1, 1))\n",
            "      (bn1): BatchNorm2d(512, eps=1e-05, momentum=0.1, affine=True, track_running_stats=True)\n",
            "      (conv2): Conv2d(512, 512, kernel_size=(3, 3), stride=(1, 1), padding=(1, 1))\n",
            "      (bn2): BatchNorm2d(512, eps=1e-05, momentum=0.1, affine=True, track_running_stats=True)\n",
            "      (relu): ReLU()\n",
            "    )\n",
            "    (pool): MaxPool2d(kernel_size=(2, 2), stride=(2, 2), padding=0, dilation=1, ceil_mode=False)\n",
            "  )\n",
            "  (b): ConvBlock(\n",
            "    (conv1): Conv2d(512, 1024, kernel_size=(3, 3), stride=(1, 1), padding=(1, 1))\n",
            "    (bn1): BatchNorm2d(1024, eps=1e-05, momentum=0.1, affine=True, track_running_stats=True)\n",
            "    (conv2): Conv2d(1024, 1024, kernel_size=(3, 3), stride=(1, 1), padding=(1, 1))\n",
            "    (bn2): BatchNorm2d(1024, eps=1e-05, momentum=0.1, affine=True, track_running_stats=True)\n",
            "    (relu): ReLU()\n",
            "  )\n",
            "  (decoder1): DecoderBlock(\n",
            "    (up): ConvTranspose2d(1024, 512, kernel_size=(2, 2), stride=(2, 2))\n",
            "    (conv): ConvBlock(\n",
            "      (conv1): Conv2d(1024, 512, kernel_size=(3, 3), stride=(1, 1), padding=(1, 1))\n",
            "      (bn1): BatchNorm2d(512, eps=1e-05, momentum=0.1, affine=True, track_running_stats=True)\n",
            "      (conv2): Conv2d(512, 512, kernel_size=(3, 3), stride=(1, 1), padding=(1, 1))\n",
            "      (bn2): BatchNorm2d(512, eps=1e-05, momentum=0.1, affine=True, track_running_stats=True)\n",
            "      (relu): ReLU()\n",
            "    )\n",
            "  )\n",
            "  (decoder2): DecoderBlock(\n",
            "    (up): ConvTranspose2d(512, 256, kernel_size=(2, 2), stride=(2, 2))\n",
            "    (conv): ConvBlock(\n",
            "      (conv1): Conv2d(512, 256, kernel_size=(3, 3), stride=(1, 1), padding=(1, 1))\n",
            "      (bn1): BatchNorm2d(256, eps=1e-05, momentum=0.1, affine=True, track_running_stats=True)\n",
            "      (conv2): Conv2d(256, 256, kernel_size=(3, 3), stride=(1, 1), padding=(1, 1))\n",
            "      (bn2): BatchNorm2d(256, eps=1e-05, momentum=0.1, affine=True, track_running_stats=True)\n",
            "      (relu): ReLU()\n",
            "    )\n",
            "  )\n",
            "  (decoder3): DecoderBlock(\n",
            "    (up): ConvTranspose2d(256, 128, kernel_size=(2, 2), stride=(2, 2))\n",
            "    (conv): ConvBlock(\n",
            "      (conv1): Conv2d(256, 128, kernel_size=(3, 3), stride=(1, 1), padding=(1, 1))\n",
            "      (bn1): BatchNorm2d(128, eps=1e-05, momentum=0.1, affine=True, track_running_stats=True)\n",
            "      (conv2): Conv2d(128, 128, kernel_size=(3, 3), stride=(1, 1), padding=(1, 1))\n",
            "      (bn2): BatchNorm2d(128, eps=1e-05, momentum=0.1, affine=True, track_running_stats=True)\n",
            "      (relu): ReLU()\n",
            "    )\n",
            "  )\n",
            "  (decoder4): DecoderBlock(\n",
            "    (up): ConvTranspose2d(128, 64, kernel_size=(2, 2), stride=(2, 2))\n",
            "    (conv): ConvBlock(\n",
            "      (conv1): Conv2d(128, 64, kernel_size=(3, 3), stride=(1, 1), padding=(1, 1))\n",
            "      (bn1): BatchNorm2d(64, eps=1e-05, momentum=0.1, affine=True, track_running_stats=True)\n",
            "      (conv2): Conv2d(64, 64, kernel_size=(3, 3), stride=(1, 1), padding=(1, 1))\n",
            "      (bn2): BatchNorm2d(64, eps=1e-05, momentum=0.1, affine=True, track_running_stats=True)\n",
            "      (relu): ReLU()\n",
            "    )\n",
            "  )\n",
            "  (outputs): Conv2d(64, 1, kernel_size=(1, 1), stride=(1, 1))\n",
            ")\n"
          ]
        },
        {
          "output_type": "stream",
          "name": "stderr",
          "text": [
            "\r  0%|          | 0/100 [00:00<?, ?it/s]"
          ]
        },
        {
          "output_type": "stream",
          "name": "stdout",
          "text": [
            "Epoch:  0\n",
            "Shifting the model to cuda!\n",
            "Train Dice Loss: 0.7625233799219131,  Train IoU Loss: 0.8645183622837067, \n",
            "Shifting the model to cuda!\n"
          ]
        },
        {
          "output_type": "stream",
          "name": "stderr",
          "text": [
            "\r  1%|          | 1/100 [00:36<1:00:29, 36.67s/it]"
          ]
        },
        {
          "output_type": "stream",
          "name": "stdout",
          "text": [
            "\n",
            "Validation Dice Loss: 0.40112115144729615,  Validation IoU Loss: 0.5725687265396118, \n",
            "Epoch:  1\n",
            "Shifting the model to cuda!\n",
            "Train Dice Loss: 0.6659743875265122,  Train IoU Loss: 0.7993300944566727, \n",
            "Shifting the model to cuda!\n"
          ]
        },
        {
          "output_type": "stream",
          "name": "stderr",
          "text": [
            "\r  2%|▏         | 2/100 [01:10<57:24, 35.15s/it]  "
          ]
        },
        {
          "output_type": "stream",
          "name": "stdout",
          "text": [
            "\n",
            "Validation Dice Loss: 0.6646595597267151,  Validation IoU Loss: 0.7985406279563904, \n",
            "Epoch:  2\n",
            "Shifting the model to cuda!\n",
            "Train Dice Loss: 0.6241493344306945,  Train IoU Loss: 0.7683533012866974, \n",
            "Shifting the model to cuda!\n"
          ]
        },
        {
          "output_type": "stream",
          "name": "stderr",
          "text": [
            "\r  3%|▎         | 3/100 [01:44<55:47, 34.51s/it]"
          ]
        },
        {
          "output_type": "stream",
          "name": "stdout",
          "text": [
            "\n",
            "Validation Dice Loss: 0.5649534702301026,  Validation IoU Loss: 0.7219907999038696, \n",
            "Epoch:  3\n",
            "Shifting the model to cuda!\n",
            "Train Dice Loss: 0.6021922618150711,  Train IoU Loss: 0.7515868365764617, \n",
            "Shifting the model to cuda!\n"
          ]
        },
        {
          "output_type": "stream",
          "name": "stderr",
          "text": [
            "\r  4%|▍         | 4/100 [02:19<55:37, 34.77s/it]"
          ]
        },
        {
          "output_type": "stream",
          "name": "stdout",
          "text": [
            "\n",
            "Validation Dice Loss: 0.5023146510124207,  Validation IoU Loss: 0.6687108755111695, \n",
            "Epoch:  4\n",
            "Shifting the model to cuda!\n",
            "Train Dice Loss: 0.5860089540481568,  Train IoU Loss: 0.7388259142637252, \n",
            "Shifting the model to cuda!\n"
          ]
        },
        {
          "output_type": "stream",
          "name": "stderr",
          "text": [
            "\r  5%|▌         | 5/100 [02:54<55:04, 34.78s/it]"
          ]
        },
        {
          "output_type": "stream",
          "name": "stdout",
          "text": [
            "\n",
            "Validation Dice Loss: 0.5010765671730042,  Validation IoU Loss: 0.6676168322563172, \n",
            "Epoch:  5\n",
            "Shifting the model to cuda!\n",
            "Train Dice Loss: 0.5701362818479538,  Train IoU Loss: 0.7261013060808181, \n",
            "Shifting the model to cuda!\n"
          ]
        },
        {
          "output_type": "stream",
          "name": "stderr",
          "text": [
            "\r  6%|▌         | 6/100 [03:29<54:25, 34.74s/it]"
          ]
        },
        {
          "output_type": "stream",
          "name": "stdout",
          "text": [
            "\n",
            "Validation Dice Loss: 0.5316563606262207,  Validation IoU Loss: 0.6942032098770141, \n",
            "Epoch:  6\n",
            "Shifting the model to cuda!\n",
            "Train Dice Loss: 0.5555524617433548,  Train IoU Loss: 0.7141438901424408, \n",
            "Shifting the model to cuda!\n"
          ]
        },
        {
          "output_type": "stream",
          "name": "stderr",
          "text": [
            "\r  7%|▋         | 7/100 [04:04<54:00, 34.84s/it]"
          ]
        },
        {
          "output_type": "stream",
          "name": "stdout",
          "text": [
            "\n",
            "Validation Dice Loss: 0.5280467867851257,  Validation IoU Loss: 0.6911186337471008, \n",
            "Epoch:  7\n",
            "Shifting the model to cuda!\n",
            "Train Dice Loss: 0.5430710941553116,  Train IoU Loss: 0.7037354737520218, \n",
            "Shifting the model to cuda!\n"
          ]
        },
        {
          "output_type": "stream",
          "name": "stderr",
          "text": [
            "\r  8%|▊         | 8/100 [04:38<53:21, 34.80s/it]"
          ]
        },
        {
          "output_type": "stream",
          "name": "stdout",
          "text": [
            "\n",
            "Validation Dice Loss: 0.546276581287384,  Validation IoU Loss: 0.706546175479889, \n",
            "Epoch:  8\n",
            "Shifting the model to cuda!\n",
            "Train Dice Loss: 0.5290649056434631,  Train IoU Loss: 0.6918442100286484, \n",
            "Shifting the model to cuda!\n"
          ]
        },
        {
          "output_type": "stream",
          "name": "stderr",
          "text": [
            "\r  9%|▉         | 9/100 [05:13<52:53, 34.87s/it]"
          ]
        },
        {
          "output_type": "stream",
          "name": "stdout",
          "text": [
            "\n",
            "Validation Dice Loss: 0.553834855556488,  Validation IoU Loss: 0.7128408312797546, \n",
            "Epoch:  9\n",
            "Shifting the model to cuda!\n",
            "Train Dice Loss: 0.5165830880403519,  Train IoU Loss: 0.6810227066278458, \n",
            "Shifting the model to cuda!\n"
          ]
        },
        {
          "output_type": "stream",
          "name": "stderr",
          "text": [
            "\r 10%|█         | 10/100 [05:48<52:11, 34.80s/it]"
          ]
        },
        {
          "output_type": "stream",
          "name": "stdout",
          "text": [
            "\n",
            "Validation Dice Loss: 0.5625998497009277,  Validation IoU Loss: 0.7200276136398316, \n",
            "Epoch:  10\n",
            "Shifting the model to cuda!\n",
            "Train Dice Loss: 0.5052889257669448,  Train IoU Loss: 0.6711615025997162, \n",
            "Shifting the model to cuda!\n"
          ]
        },
        {
          "output_type": "stream",
          "name": "stderr",
          "text": [
            "\r 11%|█         | 11/100 [06:23<51:39, 34.82s/it]"
          ]
        },
        {
          "output_type": "stream",
          "name": "stdout",
          "text": [
            "\n",
            "Validation Dice Loss: 0.5754997253417968,  Validation IoU Loss: 0.7305285215377808, \n",
            "Epoch:  11\n",
            "Shifting the model to cuda!\n",
            "Train Dice Loss: 0.4932974696159363,  Train IoU Loss: 0.6604472368955612, \n",
            "Shifting the model to cuda!\n"
          ]
        },
        {
          "output_type": "stream",
          "name": "stderr",
          "text": [
            "\r 12%|█▏        | 12/100 [06:58<51:07, 34.86s/it]"
          ]
        },
        {
          "output_type": "stream",
          "name": "stdout",
          "text": [
            "\n",
            "Validation Dice Loss: 0.5751706600189209,  Validation IoU Loss: 0.7302844524383545, \n",
            "Epoch:  12\n",
            "Shifting the model to cuda!\n",
            "Train Dice Loss: 0.47949993908405303,  Train IoU Loss: 0.6478694915771485, \n",
            "Shifting the model to cuda!\n"
          ]
        },
        {
          "output_type": "stream",
          "name": "stderr",
          "text": [
            "\r 13%|█▎        | 13/100 [07:33<50:30, 34.83s/it]"
          ]
        },
        {
          "output_type": "stream",
          "name": "stdout",
          "text": [
            "\n",
            "Validation Dice Loss: 0.6062650561332703,  Validation IoU Loss: 0.7548299193382263, \n",
            "Epoch:  13\n",
            "Shifting the model to cuda!\n",
            "Train Dice Loss: 0.4644747167825699,  Train IoU Loss: 0.6341715961694717, \n",
            "Shifting the model to cuda!\n"
          ]
        },
        {
          "output_type": "stream",
          "name": "stderr",
          "text": [
            "\r 14%|█▍        | 14/100 [08:08<49:59, 34.88s/it]"
          ]
        },
        {
          "output_type": "stream",
          "name": "stdout",
          "text": [
            "\n",
            "Validation Dice Loss: 0.6022310733795166,  Validation IoU Loss: 0.7517099499702453, \n",
            "Epoch:  14\n",
            "Shifting the model to cuda!\n",
            "Train Dice Loss: 0.4526457369327545,  Train IoU Loss: 0.6229932367801666, \n",
            "Shifting the model to cuda!\n"
          ]
        },
        {
          "output_type": "stream",
          "name": "stderr",
          "text": [
            "\r 15%|█▌        | 15/100 [08:42<49:21, 34.85s/it]"
          ]
        },
        {
          "output_type": "stream",
          "name": "stdout",
          "text": [
            "\n",
            "Validation Dice Loss: 0.6110782384872436,  Validation IoU Loss: 0.758560311794281, \n",
            "Epoch:  15\n",
            "Shifting the model to cuda!\n",
            "Train Dice Loss: 0.44033774435520173,  Train IoU Loss: 0.6111392557621003, \n",
            "Shifting the model to cuda!\n"
          ]
        },
        {
          "output_type": "stream",
          "name": "stderr",
          "text": [
            "\r 16%|█▌        | 16/100 [09:17<48:50, 34.89s/it]"
          ]
        },
        {
          "output_type": "stream",
          "name": "stdout",
          "text": [
            "\n",
            "Validation Dice Loss: 0.6397732615470886,  Validation IoU Loss: 0.780288577079773, \n",
            "Epoch:  16\n",
            "Shifting the model to cuda!\n",
            "Train Dice Loss: 0.4270894706249237,  Train IoU Loss: 0.5983994603157043, \n",
            "Shifting the model to cuda!\n"
          ]
        },
        {
          "output_type": "stream",
          "name": "stderr",
          "text": [
            "\r 17%|█▋        | 17/100 [09:52<48:15, 34.88s/it]"
          ]
        },
        {
          "output_type": "stream",
          "name": "stdout",
          "text": [
            "\n",
            "Validation Dice Loss: 0.6227624297142029,  Validation IoU Loss: 0.767490005493164, \n",
            "Epoch:  17\n",
            "Shifting the model to cuda!\n",
            "Train Dice Loss: 0.41642908155918124,  Train IoU Loss: 0.5877618730068207, \n",
            "Shifting the model to cuda!\n"
          ]
        },
        {
          "output_type": "stream",
          "name": "stderr",
          "text": [
            "\r 18%|█▊        | 18/100 [10:27<47:42, 34.91s/it]"
          ]
        },
        {
          "output_type": "stream",
          "name": "stdout",
          "text": [
            "\n",
            "Validation Dice Loss: 0.6458937644958496,  Validation IoU Loss: 0.7848307132720947, \n",
            "Epoch:  18\n",
            "Shifting the model to cuda!\n",
            "Train Dice Loss: 0.40397194027900696,  Train IoU Loss: 0.5752299338579178, \n",
            "Shifting the model to cuda!\n"
          ]
        },
        {
          "output_type": "stream",
          "name": "stderr",
          "text": [
            "\r 19%|█▉        | 19/100 [11:02<47:06, 34.90s/it]"
          ]
        },
        {
          "output_type": "stream",
          "name": "stdout",
          "text": [
            "\n",
            "Validation Dice Loss: 0.6598137259483338,  Validation IoU Loss: 0.7950182080268859, \n",
            "Epoch:  19\n",
            "Shifting the model to cuda!\n",
            "Train Dice Loss: 0.3906440794467926,  Train IoU Loss: 0.5616762429475785, \n",
            "Shifting the model to cuda!\n"
          ]
        },
        {
          "output_type": "stream",
          "name": "stderr",
          "text": [
            "\r 20%|██        | 20/100 [11:37<46:30, 34.88s/it]"
          ]
        },
        {
          "output_type": "stream",
          "name": "stdout",
          "text": [
            "\n",
            "Validation Dice Loss: 0.6571297168731689,  Validation IoU Loss: 0.7930580496788024, \n",
            "Epoch:  20\n",
            "Shifting the model to cuda!\n",
            "Train Dice Loss: 0.3810797929763794,  Train IoU Loss: 0.5516033738851547, \n",
            "Shifting the model to cuda!\n"
          ]
        },
        {
          "output_type": "stream",
          "name": "stderr",
          "text": [
            "\r 21%|██        | 21/100 [12:12<45:56, 34.89s/it]"
          ]
        },
        {
          "output_type": "stream",
          "name": "stdout",
          "text": [
            "\n",
            "Validation Dice Loss: 0.6665280342102051,  Validation IoU Loss: 0.7998660683631897, \n",
            "Epoch:  21\n",
            "Shifting the model to cuda!\n",
            "Train Dice Loss: 0.3706306844949722,  Train IoU Loss: 0.5405632734298706, \n",
            "Shifting the model to cuda!\n"
          ]
        },
        {
          "output_type": "stream",
          "name": "stderr",
          "text": [
            "\r 22%|██▏       | 22/100 [12:47<45:18, 34.85s/it]"
          ]
        },
        {
          "output_type": "stream",
          "name": "stdout",
          "text": [
            "\n",
            "Validation Dice Loss: 0.6536153554916382,  Validation IoU Loss: 0.7904834985733032, \n",
            "Epoch:  22\n",
            "Shifting the model to cuda!\n",
            "Train Dice Loss: 0.3579680919647217,  Train IoU Loss: 0.5270581126213074, \n",
            "Shifting the model to cuda!\n"
          ]
        },
        {
          "output_type": "stream",
          "name": "stderr",
          "text": [
            "\r 23%|██▎       | 23/100 [13:22<44:45, 34.88s/it]"
          ]
        },
        {
          "output_type": "stream",
          "name": "stdout",
          "text": [
            "\n",
            "Validation Dice Loss: 0.6845614790916443,  Validation IoU Loss: 0.8127193093299866, \n",
            "Epoch:  23\n",
            "Shifting the model to cuda!\n",
            "Train Dice Loss: 0.346932515501976,  Train IoU Loss: 0.5149686962366105, \n",
            "Shifting the model to cuda!\n"
          ]
        },
        {
          "output_type": "stream",
          "name": "stderr",
          "text": [
            "\r 24%|██▍       | 24/100 [13:56<44:06, 34.82s/it]"
          ]
        },
        {
          "output_type": "stream",
          "name": "stdout",
          "text": [
            "\n",
            "Validation Dice Loss: 0.6754113912582398,  Validation IoU Loss: 0.8062291741371155, \n",
            "Epoch:  24\n",
            "Shifting the model to cuda!\n",
            "Train Dice Loss: 0.33614797294139864,  Train IoU Loss: 0.5029175460338593, \n",
            "Shifting the model to cuda!\n"
          ]
        },
        {
          "output_type": "stream",
          "name": "stderr",
          "text": [
            "\r 25%|██▌       | 25/100 [14:31<43:34, 34.86s/it]"
          ]
        },
        {
          "output_type": "stream",
          "name": "stdout",
          "text": [
            "\n",
            "Validation Dice Loss: 0.7035195708274842,  Validation IoU Loss: 0.8259191036224365, \n",
            "Epoch:  25\n",
            "Shifting the model to cuda!\n",
            "Train Dice Loss: 0.3269125521183014,  Train IoU Loss: 0.49254949390888214, \n",
            "Shifting the model to cuda!\n"
          ]
        },
        {
          "output_type": "stream",
          "name": "stderr",
          "text": [
            "\r 26%|██▌       | 26/100 [15:06<42:57, 34.83s/it]"
          ]
        },
        {
          "output_type": "stream",
          "name": "stdout",
          "text": [
            "\n",
            "Validation Dice Loss: 0.6967015385627746,  Validation IoU Loss: 0.8212082266807557, \n",
            "Epoch:  26\n",
            "Shifting the model to cuda!\n",
            "Train Dice Loss: 0.31682252883911133,  Train IoU Loss: 0.4809188723564148, \n",
            "Shifting the model to cuda!\n"
          ]
        },
        {
          "output_type": "stream",
          "name": "stderr",
          "text": [
            "\r 27%|██▋       | 27/100 [15:41<42:26, 34.88s/it]"
          ]
        },
        {
          "output_type": "stream",
          "name": "stdout",
          "text": [
            "\n",
            "Validation Dice Loss: 0.6837537884712219,  Validation IoU Loss: 0.8121378183364868, \n",
            "Epoch:  27\n",
            "Shifting the model to cuda!\n",
            "Train Dice Loss: 0.3079244911670685,  Train IoU Loss: 0.4707068145275116, \n",
            "Shifting the model to cuda!\n"
          ]
        },
        {
          "output_type": "stream",
          "name": "stderr",
          "text": [
            "\r 28%|██▊       | 28/100 [16:16<41:47, 34.82s/it]"
          ]
        },
        {
          "output_type": "stream",
          "name": "stdout",
          "text": [
            "\n",
            "Validation Dice Loss: 0.7162541389465332,  Validation IoU Loss: 0.8346374750137329, \n",
            "Epoch:  28\n",
            "Shifting the model to cuda!\n",
            "Train Dice Loss: 0.29716206789016725,  Train IoU Loss: 0.4579228937625885, \n",
            "Shifting the model to cuda!\n"
          ]
        },
        {
          "output_type": "stream",
          "name": "stderr",
          "text": [
            "\r 29%|██▉       | 29/100 [16:50<41:12, 34.83s/it]"
          ]
        },
        {
          "output_type": "stream",
          "name": "stdout",
          "text": [
            "\n",
            "Validation Dice Loss: 0.6834365248680114,  Validation IoU Loss: 0.8119141101837158, \n",
            "Epoch:  29\n",
            "Shifting the model to cuda!\n",
            "Train Dice Loss: 0.2862762242555618,  Train IoU Loss: 0.4449587672948837, \n",
            "Shifting the model to cuda!\n"
          ]
        },
        {
          "output_type": "stream",
          "name": "stderr",
          "text": [
            "\r 30%|███       | 30/100 [17:25<40:38, 34.83s/it]"
          ]
        },
        {
          "output_type": "stream",
          "name": "stdout",
          "text": [
            "\n",
            "Validation Dice Loss: 0.7055316805839539,  Validation IoU Loss: 0.8273141741752624, \n",
            "Epoch:  30\n",
            "Shifting the model to cuda!\n",
            "Train Dice Loss: 0.27796876430511475,  Train IoU Loss: 0.43485094904899596, \n",
            "Shifting the model to cuda!\n"
          ]
        },
        {
          "output_type": "stream",
          "name": "stderr",
          "text": [
            "\r 31%|███       | 31/100 [18:00<40:04, 34.85s/it]"
          ]
        },
        {
          "output_type": "stream",
          "name": "stdout",
          "text": [
            "\n",
            "Validation Dice Loss: 0.7153140902519226,  Validation IoU Loss: 0.8340040564537048, \n",
            "Epoch:  31\n",
            "Shifting the model to cuda!\n",
            "Train Dice Loss: 0.2707011431455612,  Train IoU Loss: 0.4259357422590256, \n",
            "Shifting the model to cuda!\n"
          ]
        },
        {
          "output_type": "stream",
          "name": "stderr",
          "text": [
            "\r 32%|███▏      | 32/100 [18:35<39:31, 34.88s/it]"
          ]
        },
        {
          "output_type": "stream",
          "name": "stdout",
          "text": [
            "\n",
            "Validation Dice Loss: 0.7127087831497192,  Validation IoU Loss: 0.8322238683700561, \n",
            "Epoch:  32\n",
            "Shifting the model to cuda!\n",
            "Train Dice Loss: 0.26472257971763613,  Train IoU Loss: 0.41843747794628144, \n",
            "Shifting the model to cuda!\n"
          ]
        },
        {
          "output_type": "stream",
          "name": "stderr",
          "text": [
            "\r 33%|███▎      | 33/100 [19:10<38:54, 34.84s/it]"
          ]
        },
        {
          "output_type": "stream",
          "name": "stdout",
          "text": [
            "\n",
            "Validation Dice Loss: 0.7264340162277222,  Validation IoU Loss: 0.8415128827095032, \n",
            "Epoch:  33\n",
            "Shifting the model to cuda!\n",
            "Train Dice Loss: 0.25720749199390414,  Train IoU Loss: 0.40902752578258517, \n",
            "Shifting the model to cuda!\n"
          ]
        },
        {
          "output_type": "stream",
          "name": "stderr",
          "text": [
            "\r 34%|███▍      | 34/100 [19:45<38:23, 34.90s/it]"
          ]
        },
        {
          "output_type": "stream",
          "name": "stdout",
          "text": [
            "\n",
            "Validation Dice Loss: 0.7326645612716675,  Validation IoU Loss: 0.8456774830818177, \n",
            "Epoch:  34\n",
            "Shifting the model to cuda!\n",
            "Train Dice Loss: 0.2496654212474823,  Train IoU Loss: 0.39937461614608766, \n",
            "Shifting the model to cuda!\n"
          ]
        },
        {
          "output_type": "stream",
          "name": "stderr",
          "text": [
            "\r 35%|███▌      | 35/100 [20:20<37:45, 34.85s/it]"
          ]
        },
        {
          "output_type": "stream",
          "name": "stdout",
          "text": [
            "\n",
            "Validation Dice Loss: 0.7397035241127015,  Validation IoU Loss: 0.8503454089164734, \n",
            "Epoch:  35\n",
            "Shifting the model to cuda!\n",
            "Train Dice Loss: 0.2423436999320984,  Train IoU Loss: 0.3899986982345581, \n",
            "Shifting the model to cuda!\n"
          ]
        },
        {
          "output_type": "stream",
          "name": "stderr",
          "text": [
            "\r 36%|███▌      | 36/100 [20:55<37:15, 34.94s/it]"
          ]
        },
        {
          "output_type": "stream",
          "name": "stdout",
          "text": [
            "\n",
            "Validation Dice Loss: 0.7354436874389648,  Validation IoU Loss: 0.8475236773490906, \n",
            "Epoch:  36\n",
            "Shifting the model to cuda!\n",
            "Train Dice Loss: 0.23610755205154418,  Train IoU Loss: 0.3818559855222702, \n",
            "Shifting the model to cuda!\n"
          ]
        },
        {
          "output_type": "stream",
          "name": "stderr",
          "text": [
            "\r 37%|███▋      | 37/100 [21:30<36:40, 34.92s/it]"
          ]
        },
        {
          "output_type": "stream",
          "name": "stdout",
          "text": [
            "\n",
            "Validation Dice Loss: 0.7427398085594177,  Validation IoU Loss: 0.8523511171340943, \n",
            "Epoch:  37\n",
            "Shifting the model to cuda!\n",
            "Train Dice Loss: 0.23017791509628296,  Train IoU Loss: 0.37409246265888213, \n",
            "Shifting the model to cuda!\n"
          ]
        },
        {
          "output_type": "stream",
          "name": "stderr",
          "text": [
            "\r 38%|███▊      | 38/100 [22:04<36:02, 34.88s/it]"
          ]
        },
        {
          "output_type": "stream",
          "name": "stdout",
          "text": [
            "\n",
            "Validation Dice Loss: 0.7378246665000916,  Validation IoU Loss: 0.8491016387939453, \n",
            "Epoch:  38\n",
            "Shifting the model to cuda!\n",
            "Train Dice Loss: 0.22361330986022948,  Train IoU Loss: 0.36535099148750305, \n",
            "Shifting the model to cuda!\n"
          ]
        },
        {
          "output_type": "stream",
          "name": "stderr",
          "text": [
            "\r 39%|███▉      | 39/100 [22:39<35:27, 34.88s/it]"
          ]
        },
        {
          "output_type": "stream",
          "name": "stdout",
          "text": [
            "\n",
            "Validation Dice Loss: 0.7447006583213807,  Validation IoU Loss: 0.8536399722099304, \n",
            "Epoch:  39\n",
            "Shifting the model to cuda!\n",
            "Train Dice Loss: 0.21937433183193206,  Train IoU Loss: 0.3597057044506073, \n",
            "Shifting the model to cuda!\n"
          ]
        },
        {
          "output_type": "stream",
          "name": "stderr",
          "text": [
            "\r 40%|████      | 40/100 [23:14<34:52, 34.87s/it]"
          ]
        },
        {
          "output_type": "stream",
          "name": "stdout",
          "text": [
            "\n",
            "Validation Dice Loss: 0.73267982006073,  Validation IoU Loss: 0.8456882119178772, \n",
            "Epoch:  40\n",
            "Shifting the model to cuda!\n",
            "Train Dice Loss: 0.21505112946033478,  Train IoU Loss: 0.35389281511306764, \n",
            "Shifting the model to cuda!\n"
          ]
        },
        {
          "output_type": "stream",
          "name": "stderr",
          "text": [
            "\r 41%|████      | 41/100 [23:49<34:18, 34.89s/it]"
          ]
        },
        {
          "output_type": "stream",
          "name": "stdout",
          "text": [
            "\n",
            "Validation Dice Loss: 0.7513846397399903,  Validation IoU Loss: 0.858011794090271, \n",
            "Epoch:  41\n",
            "Shifting the model to cuda!\n",
            "Train Dice Loss: 0.21062389016151428,  Train IoU Loss: 0.34782265722751615, \n",
            "Shifting the model to cuda!\n"
          ]
        },
        {
          "output_type": "stream",
          "name": "stderr",
          "text": [
            "\r 42%|████▏     | 42/100 [24:24<33:40, 34.84s/it]"
          ]
        },
        {
          "output_type": "stream",
          "name": "stdout",
          "text": [
            "\n",
            "Validation Dice Loss: 0.7585020422935486,  Validation IoU Loss: 0.8626387596130372, \n",
            "Epoch:  42\n",
            "Shifting the model to cuda!\n",
            "Train Dice Loss: 0.20512921810150148,  Train IoU Loss: 0.34029865860939024, \n",
            "Shifting the model to cuda!\n"
          ]
        },
        {
          "output_type": "stream",
          "name": "stderr",
          "text": [
            "\r 43%|████▎     | 43/100 [24:59<33:08, 34.88s/it]"
          ]
        },
        {
          "output_type": "stream",
          "name": "stdout",
          "text": [
            "\n",
            "Validation Dice Loss: 0.7379555702209473,  Validation IoU Loss: 0.8491881489753723, \n",
            "Epoch:  43\n",
            "Shifting the model to cuda!\n",
            "Train Dice Loss: 0.2003944993019104,  Train IoU Loss: 0.33377677798271177, \n",
            "Shifting the model to cuda!\n"
          ]
        },
        {
          "output_type": "stream",
          "name": "stderr",
          "text": [
            "\r 44%|████▍     | 44/100 [25:33<32:29, 34.81s/it]"
          ]
        },
        {
          "output_type": "stream",
          "name": "stdout",
          "text": [
            "\n",
            "Validation Dice Loss: 0.7539727568626404,  Validation IoU Loss: 0.8596973299980164, \n",
            "Epoch:  44\n",
            "Shifting the model to cuda!\n",
            "Train Dice Loss: 0.19673554599285126,  Train IoU Loss: 0.3286882221698761, \n",
            "Shifting the model to cuda!\n"
          ]
        },
        {
          "output_type": "stream",
          "name": "stderr",
          "text": [
            "\r 45%|████▌     | 45/100 [26:08<31:57, 34.87s/it]"
          ]
        },
        {
          "output_type": "stream",
          "name": "stdout",
          "text": [
            "\n",
            "Validation Dice Loss: 0.7640621900558472,  Validation IoU Loss: 0.8662171840667725, \n",
            "Epoch:  45\n",
            "Shifting the model to cuda!\n",
            "Train Dice Loss: 0.19192930161952973,  Train IoU Loss: 0.3219545602798462, \n",
            "Shifting the model to cuda!\n"
          ]
        },
        {
          "output_type": "stream",
          "name": "stderr",
          "text": [
            "\r 46%|████▌     | 46/100 [26:43<31:22, 34.85s/it]"
          ]
        },
        {
          "output_type": "stream",
          "name": "stdout",
          "text": [
            "\n",
            "Validation Dice Loss: 0.7507447957992553,  Validation IoU Loss: 0.8575969934463501, \n",
            "Epoch:  46\n",
            "Shifting the model to cuda!\n",
            "Train Dice Loss: 0.1896566241979599,  Train IoU Loss: 0.31869247555732727, \n",
            "Shifting the model to cuda!\n"
          ]
        },
        {
          "output_type": "stream",
          "name": "stderr",
          "text": [
            "\r 47%|████▋     | 47/100 [27:18<30:48, 34.88s/it]"
          ]
        },
        {
          "output_type": "stream",
          "name": "stdout",
          "text": [
            "\n",
            "Validation Dice Loss: 0.7231633543968201,  Validation IoU Loss: 0.8393137693405152, \n",
            "Epoch:  47\n",
            "Shifting the model to cuda!\n",
            "Train Dice Loss: 0.1867726743221283,  Train IoU Loss: 0.3146283507347107, \n",
            "Shifting the model to cuda!\n"
          ]
        },
        {
          "output_type": "stream",
          "name": "stderr",
          "text": [
            "\r 48%|████▊     | 48/100 [27:53<30:13, 34.87s/it]"
          ]
        },
        {
          "output_type": "stream",
          "name": "stdout",
          "text": [
            "\n",
            "Validation Dice Loss: 0.7627935767173767,  Validation IoU Loss: 0.8654005885124206, \n",
            "Epoch:  48\n",
            "Shifting the model to cuda!\n",
            "Train Dice Loss: 0.18212423324584961,  Train IoU Loss: 0.30804543197155, \n",
            "Shifting the model to cuda!\n"
          ]
        },
        {
          "output_type": "stream",
          "name": "stderr",
          "text": [
            "\r 49%|████▉     | 49/100 [28:28<29:41, 34.92s/it]"
          ]
        },
        {
          "output_type": "stream",
          "name": "stdout",
          "text": [
            "\n",
            "Validation Dice Loss: 0.764267098903656,  Validation IoU Loss: 0.8663448214530944, \n",
            "Epoch:  49\n",
            "Shifting the model to cuda!\n",
            "Train Dice Loss: 0.17884158492088317,  Train IoU Loss: 0.30331804752349856, \n",
            "Shifting the model to cuda!\n"
          ]
        },
        {
          "output_type": "stream",
          "name": "stderr",
          "text": [
            "\r 50%|█████     | 50/100 [29:03<29:07, 34.96s/it]"
          ]
        },
        {
          "output_type": "stream",
          "name": "stdout",
          "text": [
            "\n",
            "Validation Dice Loss: 0.7449885249137879,  Validation IoU Loss: 0.8538307309150696, \n",
            "Epoch:  50\n",
            "Shifting the model to cuda!\n",
            "Train Dice Loss: 0.17560702562332153,  Train IoU Loss: 0.298687145113945, \n",
            "Shifting the model to cuda!\n"
          ]
        },
        {
          "output_type": "stream",
          "name": "stderr",
          "text": [
            "\r 51%|█████     | 51/100 [29:38<28:30, 34.90s/it]"
          ]
        },
        {
          "output_type": "stream",
          "name": "stdout",
          "text": [
            "\n",
            "Validation Dice Loss: 0.7628872156143188,  Validation IoU Loss: 0.8654598236083985, \n",
            "Epoch:  51\n",
            "Shifting the model to cuda!\n",
            "Train Dice Loss: 0.1740189641714096,  Train IoU Loss: 0.2963071346282959, \n",
            "Shifting the model to cuda!\n"
          ]
        },
        {
          "output_type": "stream",
          "name": "stderr",
          "text": [
            "\r 52%|█████▏    | 52/100 [30:13<27:56, 34.92s/it]"
          ]
        },
        {
          "output_type": "stream",
          "name": "stdout",
          "text": [
            "\n",
            "Validation Dice Loss: 0.7568051218986511,  Validation IoU Loss: 0.8615372776985168, \n",
            "Epoch:  52\n",
            "Shifting the model to cuda!\n",
            "Train Dice Loss: 0.17025798559188843,  Train IoU Loss: 0.2908959865570068, \n",
            "Shifting the model to cuda!\n"
          ]
        },
        {
          "output_type": "stream",
          "name": "stderr",
          "text": [
            "\r 53%|█████▎    | 53/100 [30:48<27:22, 34.94s/it]"
          ]
        },
        {
          "output_type": "stream",
          "name": "stdout",
          "text": [
            "\n",
            "Validation Dice Loss: 0.7524432301521301,  Validation IoU Loss: 0.8586995124816894, \n",
            "Epoch:  53\n",
            "Shifting the model to cuda!\n",
            "Train Dice Loss: 0.16726315021514893,  Train IoU Loss: 0.2865248262882233, \n",
            "Shifting the model to cuda!\n"
          ]
        },
        {
          "output_type": "stream",
          "name": "stderr",
          "text": [
            "\r 54%|█████▍    | 54/100 [31:23<26:49, 35.00s/it]"
          ]
        },
        {
          "output_type": "stream",
          "name": "stdout",
          "text": [
            "\n",
            "Validation Dice Loss: 0.7714041948318482,  Validation IoU Loss: 0.8709201574325561, \n",
            "Epoch:  54\n",
            "Shifting the model to cuda!\n",
            "Train Dice Loss: 0.16528612077236177,  Train IoU Loss: 0.2835801184177399, \n",
            "Shifting the model to cuda!\n"
          ]
        },
        {
          "output_type": "stream",
          "name": "stderr",
          "text": [
            "\r 55%|█████▌    | 55/100 [31:58<26:11, 34.92s/it]"
          ]
        },
        {
          "output_type": "stream",
          "name": "stdout",
          "text": [
            "\n",
            "Validation Dice Loss: 0.7608362317085267,  Validation IoU Loss: 0.8641427874565124, \n",
            "Epoch:  55\n",
            "Shifting the model to cuda!\n",
            "Train Dice Loss: 0.16384839713573457,  Train IoU Loss: 0.28146839141845703, \n",
            "Shifting the model to cuda!\n"
          ]
        },
        {
          "output_type": "stream",
          "name": "stderr",
          "text": [
            "\r 56%|█████▌    | 56/100 [32:33<25:36, 34.93s/it]"
          ]
        },
        {
          "output_type": "stream",
          "name": "stdout",
          "text": [
            "\n",
            "Validation Dice Loss: 0.7751923561096191,  Validation IoU Loss: 0.8733265042304993, \n",
            "Epoch:  56\n",
            "Shifting the model to cuda!\n",
            "Train Dice Loss: 0.16014382541179656,  Train IoU Loss: 0.2760434508323669, \n",
            "Shifting the model to cuda!\n"
          ]
        },
        {
          "output_type": "stream",
          "name": "stderr",
          "text": [
            "\r 57%|█████▋    | 57/100 [33:08<25:00, 34.90s/it]"
          ]
        },
        {
          "output_type": "stream",
          "name": "stdout",
          "text": [
            "\n",
            "Validation Dice Loss: 0.7598215699195862,  Validation IoU Loss: 0.8634804606437683, \n",
            "Epoch:  57\n",
            "Shifting the model to cuda!\n",
            "Train Dice Loss: 0.15724581778049468,  Train IoU Loss: 0.27168127000331876, \n",
            "Shifting the model to cuda!\n"
          ]
        },
        {
          "output_type": "stream",
          "name": "stderr",
          "text": [
            "\r 58%|█████▊    | 58/100 [33:42<24:25, 34.90s/it]"
          ]
        },
        {
          "output_type": "stream",
          "name": "stdout",
          "text": [
            "\n",
            "Validation Dice Loss: 0.759416663646698,  Validation IoU Loss: 0.8632237553596497, \n",
            "Epoch:  58\n",
            "Shifting the model to cuda!\n",
            "Train Dice Loss: 0.15678020417690278,  Train IoU Loss: 0.2709948062896729, \n",
            "Shifting the model to cuda!\n"
          ]
        },
        {
          "output_type": "stream",
          "name": "stderr",
          "text": [
            "\r 59%|█████▉    | 59/100 [34:17<23:52, 34.94s/it]"
          ]
        },
        {
          "output_type": "stream",
          "name": "stdout",
          "text": [
            "\n",
            "Validation Dice Loss: 0.7696198463439942,  Validation IoU Loss: 0.8697801470756531, \n",
            "Epoch:  59\n",
            "Shifting the model to cuda!\n",
            "Train Dice Loss: 0.15484155118465423,  Train IoU Loss: 0.2680910497903824, \n",
            "Shifting the model to cuda!\n"
          ]
        },
        {
          "output_type": "stream",
          "name": "stderr",
          "text": [
            "\r 60%|██████    | 60/100 [34:52<23:16, 34.91s/it]"
          ]
        },
        {
          "output_type": "stream",
          "name": "stdout",
          "text": [
            "\n",
            "Validation Dice Loss: 0.7773266434669495,  Validation IoU Loss: 0.8746751189231873, \n",
            "Epoch:  60\n",
            "Shifting the model to cuda!\n",
            "Train Dice Loss: 0.15318597257137298,  Train IoU Loss: 0.2656164258718491, \n",
            "Shifting the model to cuda!\n"
          ]
        },
        {
          "output_type": "stream",
          "name": "stderr",
          "text": [
            "\r 61%|██████    | 61/100 [35:27<22:43, 34.95s/it]"
          ]
        },
        {
          "output_type": "stream",
          "name": "stdout",
          "text": [
            "\n",
            "Validation Dice Loss: 0.7602984666824341,  Validation IoU Loss: 0.8637964010238648, \n",
            "Epoch:  61\n",
            "Shifting the model to cuda!\n",
            "Train Dice Loss: 0.15139813721179962,  Train IoU Loss: 0.2629032552242279, \n",
            "Shifting the model to cuda!\n"
          ]
        },
        {
          "output_type": "stream",
          "name": "stderr",
          "text": [
            "\r 62%|██████▏   | 62/100 [36:02<22:08, 34.97s/it]"
          ]
        },
        {
          "output_type": "stream",
          "name": "stdout",
          "text": [
            "\n",
            "Validation Dice Loss: 0.7848453521728516,  Validation IoU Loss: 0.8794199705123902, \n",
            "Epoch:  62\n",
            "Shifting the model to cuda!\n",
            "Train Dice Loss: 0.15180901885032655,  Train IoU Loss: 0.263492152094841, \n",
            "Shifting the model to cuda!\n"
          ]
        },
        {
          "output_type": "stream",
          "name": "stderr",
          "text": [
            "\r 63%|██████▎   | 63/100 [36:37<21:34, 34.97s/it]"
          ]
        },
        {
          "output_type": "stream",
          "name": "stdout",
          "text": [
            "\n",
            "Validation Dice Loss: 0.7686336278915405,  Validation IoU Loss: 0.8691503524780273, \n",
            "Epoch:  63\n",
            "Shifting the model to cuda!\n",
            "Train Dice Loss: 0.14820488393306733,  Train IoU Loss: 0.25808667540550234, \n",
            "Shifting the model to cuda!\n"
          ]
        },
        {
          "output_type": "stream",
          "name": "stderr",
          "text": [
            "\r 64%|██████▍   | 64/100 [37:12<20:58, 34.95s/it]"
          ]
        },
        {
          "output_type": "stream",
          "name": "stdout",
          "text": [
            "\n",
            "Validation Dice Loss: 0.7610201478004456,  Validation IoU Loss: 0.8642606377601624, \n",
            "Epoch:  64\n",
            "Shifting the model to cuda!\n",
            "Train Dice Loss: 0.14596790373325347,  Train IoU Loss: 0.25470549762248995, \n",
            "Shifting the model to cuda!\n"
          ]
        },
        {
          "output_type": "stream",
          "name": "stderr",
          "text": [
            "\r 65%|██████▌   | 65/100 [37:47<20:21, 34.91s/it]"
          ]
        },
        {
          "output_type": "stream",
          "name": "stdout",
          "text": [
            "\n",
            "Validation Dice Loss: 0.7705427885055542,  Validation IoU Loss: 0.8703663110733032, \n",
            "Epoch:  65\n",
            "Shifting the model to cuda!\n",
            "Train Dice Loss: 0.14416658878326416,  Train IoU Loss: 0.2519381582736969, \n",
            "Shifting the model to cuda!\n"
          ]
        },
        {
          "output_type": "stream",
          "name": "stderr",
          "text": [
            "\r 66%|██████▌   | 66/100 [38:22<19:47, 34.91s/it]"
          ]
        },
        {
          "output_type": "stream",
          "name": "stdout",
          "text": [
            "\n",
            "Validation Dice Loss: 0.7696114182472229,  Validation IoU Loss: 0.869773018360138, \n",
            "Epoch:  66\n",
            "Shifting the model to cuda!\n",
            "Train Dice Loss: 0.14303556978702545,  Train IoU Loss: 0.25019410252571106, \n",
            "Shifting the model to cuda!\n"
          ]
        },
        {
          "output_type": "stream",
          "name": "stderr",
          "text": [
            "\r 67%|██████▋   | 67/100 [38:57<19:10, 34.88s/it]"
          ]
        },
        {
          "output_type": "stream",
          "name": "stdout",
          "text": [
            "\n",
            "Validation Dice Loss: 0.774469006061554,  Validation IoU Loss: 0.872870409488678, \n",
            "Epoch:  67\n",
            "Shifting the model to cuda!\n",
            "Train Dice Loss: 0.14174772202968597,  Train IoU Loss: 0.24822564721107482, \n",
            "Shifting the model to cuda!\n"
          ]
        },
        {
          "output_type": "stream",
          "name": "stderr",
          "text": [
            "\r 68%|██████▊   | 68/100 [39:32<18:35, 34.87s/it]"
          ]
        },
        {
          "output_type": "stream",
          "name": "stdout",
          "text": [
            "\n",
            "Validation Dice Loss: 0.7614295601844787,  Validation IoU Loss: 0.8645247697830201, \n",
            "Epoch:  68\n",
            "Shifting the model to cuda!\n",
            "Train Dice Loss: 0.1403834640979767,  Train IoU Loss: 0.24614175260066987, \n",
            "Shifting the model to cuda!\n"
          ]
        },
        {
          "output_type": "stream",
          "name": "stderr",
          "text": [
            "\r 69%|██████▉   | 69/100 [40:06<17:59, 34.83s/it]"
          ]
        },
        {
          "output_type": "stream",
          "name": "stdout",
          "text": [
            "\n",
            "Validation Dice Loss: 0.782427704334259,  Validation IoU Loss: 0.8779009938240051, \n",
            "Epoch:  69\n",
            "Shifting the model to cuda!\n",
            "Train Dice Loss: 0.13951424658298492,  Train IoU Loss: 0.24480416774749755, \n",
            "Shifting the model to cuda!\n"
          ]
        },
        {
          "output_type": "stream",
          "name": "stderr",
          "text": [
            "\r 70%|███████   | 70/100 [40:41<17:25, 34.84s/it]"
          ]
        },
        {
          "output_type": "stream",
          "name": "stdout",
          "text": [
            "\n",
            "Validation Dice Loss: 0.7693134307861328,  Validation IoU Loss: 0.8695834517478943, \n",
            "Epoch:  70\n",
            "Shifting the model to cuda!\n",
            "Train Dice Loss: 0.13805703818798065,  Train IoU Loss: 0.24254875481128693, \n",
            "Shifting the model to cuda!\n"
          ]
        },
        {
          "output_type": "stream",
          "name": "stderr",
          "text": [
            "\r 71%|███████   | 71/100 [41:16<16:51, 34.86s/it]"
          ]
        },
        {
          "output_type": "stream",
          "name": "stdout",
          "text": [
            "\n",
            "Validation Dice Loss: 0.7643548727035523,  Validation IoU Loss: 0.8664073348045349, \n",
            "Epoch:  71\n",
            "Shifting the model to cuda!\n",
            "Train Dice Loss: 0.13667393922805787,  Train IoU Loss: 0.2404276043176651, \n",
            "Shifting the model to cuda!\n"
          ]
        },
        {
          "output_type": "stream",
          "name": "stderr",
          "text": [
            "\r 72%|███████▏  | 72/100 [41:51<16:16, 34.88s/it]"
          ]
        },
        {
          "output_type": "stream",
          "name": "stdout",
          "text": [
            "\n",
            "Validation Dice Loss: 0.7862817287445069,  Validation IoU Loss: 0.8803223013877869, \n",
            "Epoch:  72\n",
            "Shifting the model to cuda!\n",
            "Train Dice Loss: 0.13621516525745392,  Train IoU Loss: 0.23968901932239534, \n",
            "Shifting the model to cuda!\n"
          ]
        },
        {
          "output_type": "stream",
          "name": "stderr",
          "text": [
            "\r 73%|███████▎  | 73/100 [42:26<15:43, 34.93s/it]"
          ]
        },
        {
          "output_type": "stream",
          "name": "stdout",
          "text": [
            "\n",
            "Validation Dice Loss: 0.7773743033409118,  Validation IoU Loss: 0.8747078895568847, \n",
            "Epoch:  73\n",
            "Shifting the model to cuda!\n",
            "Train Dice Loss: 0.1355919510126114,  Train IoU Loss: 0.2387606531381607, \n",
            "Shifting the model to cuda!\n"
          ]
        },
        {
          "output_type": "stream",
          "name": "stderr",
          "text": [
            "\r 74%|███████▍  | 74/100 [43:01<15:06, 34.86s/it]"
          ]
        },
        {
          "output_type": "stream",
          "name": "stdout",
          "text": [
            "\n",
            "Validation Dice Loss: 0.7758298993110657,  Validation IoU Loss: 0.8737341642379761, \n",
            "Epoch:  74\n",
            "Shifting the model to cuda!\n",
            "Train Dice Loss: 0.13425003588199616,  Train IoU Loss: 0.2366403341293335, \n",
            "Shifting the model to cuda!\n"
          ]
        },
        {
          "output_type": "stream",
          "name": "stderr",
          "text": [
            "\r 75%|███████▌  | 75/100 [43:36<14:30, 34.84s/it]"
          ]
        },
        {
          "output_type": "stream",
          "name": "stdout",
          "text": [
            "\n",
            "Validation Dice Loss: 0.7759503960609436,  Validation IoU Loss: 0.8738076686859131, \n",
            "Epoch:  75\n",
            "Shifting the model to cuda!\n",
            "Train Dice Loss: 0.13254950940608978,  Train IoU Loss: 0.23402661681175232, \n",
            "Shifting the model to cuda!\n"
          ]
        },
        {
          "output_type": "stream",
          "name": "stderr",
          "text": [
            "\r 76%|███████▌  | 76/100 [44:10<13:54, 34.79s/it]"
          ]
        },
        {
          "output_type": "stream",
          "name": "stdout",
          "text": [
            "\n",
            "Validation Dice Loss: 0.7711355328559876,  Validation IoU Loss: 0.8707450747489929, \n",
            "Epoch:  76\n",
            "Shifting the model to cuda!\n",
            "Train Dice Loss: 0.1313640832901001,  Train IoU Loss: 0.23218640685081482, \n",
            "Shifting the model to cuda!\n"
          ]
        },
        {
          "output_type": "stream",
          "name": "stderr",
          "text": [
            "\r 77%|███████▋  | 77/100 [44:45<13:20, 34.82s/it]"
          ]
        },
        {
          "output_type": "stream",
          "name": "stdout",
          "text": [
            "\n",
            "Validation Dice Loss: 0.7766064882278443,  Validation IoU Loss: 0.8742225766181946, \n",
            "Epoch:  77\n",
            "Shifting the model to cuda!\n",
            "Train Dice Loss: 0.13046814501285553,  Train IoU Loss: 0.23077998161315919, \n",
            "Shifting the model to cuda!\n"
          ]
        },
        {
          "output_type": "stream",
          "name": "stderr",
          "text": [
            "\r 78%|███████▊  | 78/100 [45:20<12:46, 34.82s/it]"
          ]
        },
        {
          "output_type": "stream",
          "name": "stdout",
          "text": [
            "\n",
            "Validation Dice Loss: 0.774372684955597,  Validation IoU Loss: 0.8728060364723206, \n",
            "Epoch:  78\n",
            "Shifting the model to cuda!\n",
            "Train Dice Loss: 0.12996354401111604,  Train IoU Loss: 0.22998003661632538, \n",
            "Shifting the model to cuda!\n"
          ]
        },
        {
          "output_type": "stream",
          "name": "stderr",
          "text": [
            "\r 79%|███████▉  | 79/100 [45:55<12:11, 34.82s/it]"
          ]
        },
        {
          "output_type": "stream",
          "name": "stdout",
          "text": [
            "\n",
            "Validation Dice Loss: 0.777367115020752,  Validation IoU Loss: 0.8747061729431153, \n",
            "Epoch:  79\n",
            "Shifting the model to cuda!\n",
            "Train Dice Loss: 0.12850383222103118,  Train IoU Loss: 0.22770260274410248, \n",
            "Shifting the model to cuda!\n"
          ]
        },
        {
          "output_type": "stream",
          "name": "stderr",
          "text": [
            "\r 80%|████████  | 80/100 [46:30<11:37, 34.85s/it]"
          ]
        },
        {
          "output_type": "stream",
          "name": "stdout",
          "text": [
            "\n",
            "Validation Dice Loss: 0.7695973634719848,  Validation IoU Loss: 0.8697627544403076, \n",
            "Epoch:  80\n",
            "Shifting the model to cuda!\n",
            "Train Dice Loss: 0.1283912777900696,  Train IoU Loss: 0.22750812768936157, \n",
            "Shifting the model to cuda!\n"
          ]
        },
        {
          "output_type": "stream",
          "name": "stderr",
          "text": [
            "\r 81%|████████  | 81/100 [47:05<11:02, 34.88s/it]"
          ]
        },
        {
          "output_type": "stream",
          "name": "stdout",
          "text": [
            "\n",
            "Validation Dice Loss: 0.7815179109573365,  Validation IoU Loss: 0.8773255586624146, \n",
            "Epoch:  81\n",
            "Shifting the model to cuda!\n",
            "Train Dice Loss: 0.1286565840244293,  Train IoU Loss: 0.22794876098632813, \n",
            "Shifting the model to cuda!\n"
          ]
        },
        {
          "output_type": "stream",
          "name": "stderr",
          "text": [
            "\r 82%|████████▏ | 82/100 [47:40<10:28, 34.89s/it]"
          ]
        },
        {
          "output_type": "stream",
          "name": "stdout",
          "text": [
            "\n",
            "Validation Dice Loss: 0.7747688531875611,  Validation IoU Loss: 0.8730586409568787, \n",
            "Epoch:  82\n",
            "Shifting the model to cuda!\n",
            "Train Dice Loss: 0.12724258601665497,  Train IoU Loss: 0.2257203996181488, \n",
            "Shifting the model to cuda!\n"
          ]
        },
        {
          "output_type": "stream",
          "name": "stderr",
          "text": [
            "\r 83%|████████▎ | 83/100 [48:14<09:52, 34.88s/it]"
          ]
        },
        {
          "output_type": "stream",
          "name": "stdout",
          "text": [
            "\n",
            "Validation Dice Loss: 0.7725205063819885,  Validation IoU Loss: 0.8716285705566407, \n",
            "Epoch:  83\n",
            "Shifting the model to cuda!\n",
            "Train Dice Loss: 0.12652968764305114,  Train IoU Loss: 0.22457192242145538, \n",
            "Shifting the model to cuda!\n"
          ]
        },
        {
          "output_type": "stream",
          "name": "stderr",
          "text": [
            "\r 84%|████████▍ | 84/100 [48:49<09:18, 34.90s/it]"
          ]
        },
        {
          "output_type": "stream",
          "name": "stdout",
          "text": [
            "\n",
            "Validation Dice Loss: 0.7731337666511535,  Validation IoU Loss: 0.8720171332359314, \n",
            "Epoch:  84\n",
            "Shifting the model to cuda!\n",
            "Train Dice Loss: 0.1269014894962311,  Train IoU Loss: 0.22516049444675446, \n",
            "Shifting the model to cuda!\n"
          ]
        },
        {
          "output_type": "stream",
          "name": "stderr",
          "text": [
            "\r 85%|████████▌ | 85/100 [49:24<08:43, 34.88s/it]"
          ]
        },
        {
          "output_type": "stream",
          "name": "stdout",
          "text": [
            "\n",
            "Validation Dice Loss: 0.7718385577201843,  Validation IoU Loss: 0.871193778514862, \n",
            "Epoch:  85\n",
            "Shifting the model to cuda!\n",
            "Train Dice Loss: 0.1253555864095688,  Train IoU Loss: 0.22274646759033204, \n",
            "Shifting the model to cuda!\n"
          ]
        },
        {
          "output_type": "stream",
          "name": "stderr",
          "text": [
            "\r 86%|████████▌ | 86/100 [49:59<08:08, 34.87s/it]"
          ]
        },
        {
          "output_type": "stream",
          "name": "stdout",
          "text": [
            "\n",
            "Validation Dice Loss: 0.7781212091445923,  Validation IoU Loss: 0.8751832127571106, \n",
            "Epoch:  86\n",
            "Shifting the model to cuda!\n",
            "Train Dice Loss: 0.12482039332389831,  Train IoU Loss: 0.22188757061958314, \n",
            "Shifting the model to cuda!\n"
          ]
        },
        {
          "output_type": "stream",
          "name": "stderr",
          "text": [
            "\r 87%|████████▋ | 87/100 [50:34<07:33, 34.87s/it]"
          ]
        },
        {
          "output_type": "stream",
          "name": "stdout",
          "text": [
            "\n",
            "Validation Dice Loss: 0.7815695881843567,  Validation IoU Loss: 0.8773577213287354, \n",
            "Epoch:  87\n",
            "Shifting the model to cuda!\n",
            "Train Dice Loss: 0.123771333694458,  Train IoU Loss: 0.22023310959339143, \n",
            "Shifting the model to cuda!\n"
          ]
        },
        {
          "output_type": "stream",
          "name": "stderr",
          "text": [
            "\r 88%|████████▊ | 88/100 [51:09<06:58, 34.90s/it]"
          ]
        },
        {
          "output_type": "stream",
          "name": "stdout",
          "text": [
            "\n",
            "Validation Dice Loss: 0.7692717552185059,  Validation IoU Loss: 0.8695598006248474, \n",
            "Epoch:  88\n",
            "Shifting the model to cuda!\n",
            "Train Dice Loss: 0.12409971356391906,  Train IoU Loss: 0.2207282990217209, \n",
            "Shifting the model to cuda!\n"
          ]
        },
        {
          "output_type": "stream",
          "name": "stderr",
          "text": [
            "\r 89%|████████▉ | 89/100 [51:44<06:24, 34.93s/it]"
          ]
        },
        {
          "output_type": "stream",
          "name": "stdout",
          "text": [
            "\n",
            "Validation Dice Loss: 0.7766602516174317,  Validation IoU Loss: 0.8742567420005798, \n",
            "Epoch:  89\n",
            "Shifting the model to cuda!\n",
            "Train Dice Loss: 0.12452636063098907,  Train IoU Loss: 0.22141195833683014, \n",
            "Shifting the model to cuda!\n"
          ]
        },
        {
          "output_type": "stream",
          "name": "stderr",
          "text": [
            "\r 90%|█████████ | 90/100 [52:19<05:49, 34.93s/it]"
          ]
        },
        {
          "output_type": "stream",
          "name": "stdout",
          "text": [
            "\n",
            "Validation Dice Loss: 0.7824436545372009,  Validation IoU Loss: 0.8779114127159119, \n",
            "Epoch:  90\n",
            "Shifting the model to cuda!\n",
            "Train Dice Loss: 0.12240322530269623,  Train IoU Loss: 0.21806796491146088, \n",
            "Shifting the model to cuda!\n"
          ]
        },
        {
          "output_type": "stream",
          "name": "stderr",
          "text": [
            "\r 91%|█████████ | 91/100 [52:54<05:14, 34.94s/it]"
          ]
        },
        {
          "output_type": "stream",
          "name": "stdout",
          "text": [
            "\n",
            "Validation Dice Loss: 0.7730361700057984,  Validation IoU Loss: 0.8719583988189697, \n",
            "Epoch:  91\n",
            "Shifting the model to cuda!\n",
            "Train Dice Loss: 0.12138530611991882,  Train IoU Loss: 0.21642783880233765, \n",
            "Shifting the model to cuda!\n"
          ]
        },
        {
          "output_type": "stream",
          "name": "stderr",
          "text": [
            "\r 92%|█████████▏| 92/100 [53:29<04:39, 34.90s/it]"
          ]
        },
        {
          "output_type": "stream",
          "name": "stdout",
          "text": [
            "\n",
            "Validation Dice Loss: 0.7790878772735595,  Validation IoU Loss: 0.8757935881614685, \n",
            "Epoch:  92\n",
            "Shifting the model to cuda!\n",
            "Train Dice Loss: 0.12006386816501617,  Train IoU Loss: 0.2143396258354187, \n",
            "Shifting the model to cuda!\n"
          ]
        },
        {
          "output_type": "stream",
          "name": "stderr",
          "text": [
            "\r 93%|█████████▎| 93/100 [54:04<04:04, 34.91s/it]"
          ]
        },
        {
          "output_type": "stream",
          "name": "stdout",
          "text": [
            "\n",
            "Validation Dice Loss: 0.7764802694320678,  Validation IoU Loss: 0.8741452932357788, \n",
            "Epoch:  93\n",
            "Shifting the model to cuda!\n",
            "Train Dice Loss: 0.11903030276298524,  Train IoU Loss: 0.21270499229431153, \n",
            "Shifting the model to cuda!\n"
          ]
        },
        {
          "output_type": "stream",
          "name": "stderr",
          "text": [
            "\r 94%|█████████▍| 94/100 [54:38<03:29, 34.90s/it]"
          ]
        },
        {
          "output_type": "stream",
          "name": "stdout",
          "text": [
            "\n",
            "Validation Dice Loss: 0.7753172516822815,  Validation IoU Loss: 0.8734099507331848, \n",
            "Epoch:  94\n",
            "Shifting the model to cuda!\n",
            "Train Dice Loss: 0.11864179968833924,  Train IoU Loss: 0.21207056939601898, \n",
            "Shifting the model to cuda!\n"
          ]
        },
        {
          "output_type": "stream",
          "name": "stderr",
          "text": [
            "\r 95%|█████████▌| 95/100 [55:13<02:54, 34.88s/it]"
          ]
        },
        {
          "output_type": "stream",
          "name": "stdout",
          "text": [
            "\n",
            "Validation Dice Loss: 0.7747774004936219,  Validation IoU Loss: 0.8730658888816833, \n",
            "Epoch:  95\n",
            "Shifting the model to cuda!\n",
            "Train Dice Loss: 0.11829785108566285,  Train IoU Loss: 0.2115382045507431, \n",
            "Shifting the model to cuda!\n"
          ]
        },
        {
          "output_type": "stream",
          "name": "stderr",
          "text": [
            "\r 96%|█████████▌| 96/100 [55:48<02:19, 34.92s/it]"
          ]
        },
        {
          "output_type": "stream",
          "name": "stdout",
          "text": [
            "\n",
            "Validation Dice Loss: 0.7742828488349914,  Validation IoU Loss: 0.8727486491203308, \n",
            "Epoch:  96\n",
            "Shifting the model to cuda!\n",
            "Train Dice Loss: 0.11843139827251434,  Train IoU Loss: 0.21175109148025512, \n",
            "Shifting the model to cuda!\n"
          ]
        },
        {
          "output_type": "stream",
          "name": "stderr",
          "text": [
            "\r 97%|█████████▋| 97/100 [56:23<01:44, 34.96s/it]"
          ]
        },
        {
          "output_type": "stream",
          "name": "stdout",
          "text": [
            "\n",
            "Validation Dice Loss: 0.7746519565582275,  Validation IoU Loss: 0.872985017299652, \n",
            "Epoch:  97\n",
            "Shifting the model to cuda!\n",
            "Train Dice Loss: 0.11753101944923401,  Train IoU Loss: 0.21030731201171876, \n",
            "Shifting the model to cuda!\n"
          ]
        },
        {
          "output_type": "stream",
          "name": "stderr",
          "text": [
            "\r 98%|█████████▊| 98/100 [56:58<01:09, 34.93s/it]"
          ]
        },
        {
          "output_type": "stream",
          "name": "stdout",
          "text": [
            "\n",
            "Validation Dice Loss: 0.7765448451042175,  Validation IoU Loss: 0.8741855502128602, \n",
            "Epoch:  98\n",
            "Shifting the model to cuda!\n",
            "Train Dice Loss: 0.11738831102848053,  Train IoU Loss: 0.21006300747394563, \n",
            "Shifting the model to cuda!\n"
          ]
        },
        {
          "output_type": "stream",
          "name": "stderr",
          "text": [
            "\r 99%|█████████▉| 99/100 [57:33<00:34, 34.94s/it]"
          ]
        },
        {
          "output_type": "stream",
          "name": "stdout",
          "text": [
            "\n",
            "Validation Dice Loss: 0.777353048324585,  Validation IoU Loss: 0.8746955037117005, \n",
            "Epoch:  99\n",
            "Shifting the model to cuda!\n",
            "Train Dice Loss: 0.11649577021598816,  Train IoU Loss: 0.20864871740341187, \n",
            "Shifting the model to cuda!\n"
          ]
        },
        {
          "output_type": "stream",
          "name": "stderr",
          "text": [
            "100%|██████████| 100/100 [58:08<00:00, 34.89s/it]"
          ]
        },
        {
          "output_type": "stream",
          "name": "stdout",
          "text": [
            "\n",
            "Validation Dice Loss: 0.7756901621818543,  Validation IoU Loss: 0.87364422082901, \n"
          ]
        },
        {
          "output_type": "stream",
          "name": "stderr",
          "text": [
            "\n"
          ]
        },
        {
          "output_type": "display_data",
          "data": {
            "text/plain": [
              "<Figure size 1080x288 with 2 Axes>"
            ],
            "image/png": "[encoded data removed]"
          },
          "metadata": {
            "needs_background": "light"
          }
        }
      ]
    },
    {
      "cell_type": "code",
      "source": [
        "torch.save(model.state_dict(), '/content/drive/MyDrive/linknet.pth')"
      ],
      "metadata": {
        "id": "9llo448caYpV"
      },
      "execution_count": 18,
      "outputs": []
    },
    {
      "cell_type": "code",
      "source": [
        "# Run only before re-training\n",
        "%rm -r /demo"
      ],
      "metadata": {
        "id": "JUxtS00pDW_j"
      },
      "execution_count": 19,
      "outputs": []
    }
  ]
}